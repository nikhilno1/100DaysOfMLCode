{
  "nbformat": 4,
  "nbformat_minor": 0,
  "metadata": {
    "colab": {
      "name": "Submission DNST_CIFAR10.ipynb",
      "version": "0.3.2",
      "provenance": [],
      "collapsed_sections": [],
      "include_colab_link": true
    },
    "kernelspec": {
      "name": "python3",
      "display_name": "Python 3"
    },
    "accelerator": "GPU"
  },
  "cells": [
    {
      "cell_type": "markdown",
      "metadata": {
        "id": "view-in-github",
        "colab_type": "text"
      },
      "source": [
        "[View in Colaboratory](https://colab.research.google.com/github/nikhilno1/100DaysOfMLCode/blob/master/DNST_CIFAR10.ipynb)"
      ]
    },
    {
      "metadata": {
        "id": "K70hAckqg0EA",
        "colab_type": "code",
        "outputId": "10184c44-483b-4b1d-a58d-7acbcd3e1778",
        "colab": {
          "base_uri": "https://localhost:8080/",
          "height": 34
        }
      },
      "cell_type": "code",
      "source": [
        "# https://keras.io/\n",
        "!pip install -q keras\n",
        "import keras"
      ],
      "execution_count": 0,
      "outputs": [
        {
          "output_type": "stream",
          "text": [
            "Using TensorFlow backend.\n"
          ],
          "name": "stderr"
        }
      ]
    },
    {
      "metadata": {
        "id": "wVIx_KIigxPV",
        "colab_type": "code",
        "colab": {}
      },
      "cell_type": "code",
      "source": [
        "import keras\n",
        "from keras.datasets import cifar10\n",
        "from keras.models import Model, Sequential\n",
        "from keras.layers import Dense, Dropout, Flatten, Input, AveragePooling2D, merge, Activation\n",
        "from keras.layers import Conv2D, MaxPooling2D, BatchNormalization, GlobalAveragePooling2D\n",
        "from keras.layers import Concatenate\n",
        "from keras.optimizers import SGD\n",
        "from keras.preprocessing.image import ImageDataGenerator\n",
        "from keras.callbacks import LearningRateScheduler, ReduceLROnPlateau\n",
        "\n",
        "from keras.callbacks import ModelCheckpoint\n",
        "\n",
        "import numpy as np\n",
        "import matplotlib.pyplot as plt\n",
        "%matplotlib inline\n",
        "from scipy.misc import toimage\n",
        "import time\n"
      ],
      "execution_count": 0,
      "outputs": []
    },
    {
      "metadata": {
        "id": "UNHw6luQg3gc",
        "colab_type": "code",
        "colab": {}
      },
      "cell_type": "code",
      "source": [
        "# this part will prevent tensorflow to allocate all the available GPU Memory\n",
        "# backend\n",
        "import tensorflow as tf\n",
        "from keras import backend as k\n",
        "\n",
        "# Don't pre-allocate memory; allocate as-needed\n",
        "config = tf.ConfigProto()\n",
        "config.gpu_options.allow_growth = True\n",
        "\n",
        "# Create a session with the above options specified.\n",
        "k.tensorflow_backend.set_session(tf.Session(config=config))"
      ],
      "execution_count": 0,
      "outputs": []
    },
    {
      "metadata": {
        "id": "Mp9ytfaZ_N6P",
        "colab_type": "code",
        "outputId": "e8a71322-0d98-4a49-ec5c-73ddc7ae82f2",
        "colab": {
          "base_uri": "https://localhost:8080/",
          "height": 289
        }
      },
      "cell_type": "code",
      "source": [
        "!rm -rf clr_callback.py*\n",
        "!wget https://github.com/bckenstler/CLR/raw/master/clr_callback.py\n",
        "from clr_callback import *"
      ],
      "execution_count": 0,
      "outputs": [
        {
          "output_type": "stream",
          "text": [
            "--2018-10-19 08:17:40--  https://github.com/bckenstler/CLR/raw/master/clr_callback.py\n",
            "Resolving github.com (github.com)... 192.30.253.113, 192.30.253.112\n",
            "Connecting to github.com (github.com)|192.30.253.113|:443... connected.\n",
            "HTTP request sent, awaiting response... 302 Found\n",
            "Location: https://raw.githubusercontent.com/bckenstler/CLR/master/clr_callback.py [following]\n",
            "--2018-10-19 08:17:40--  https://raw.githubusercontent.com/bckenstler/CLR/master/clr_callback.py\n",
            "Resolving raw.githubusercontent.com (raw.githubusercontent.com)... 151.101.0.133, 151.101.64.133, 151.101.128.133, ...\n",
            "Connecting to raw.githubusercontent.com (raw.githubusercontent.com)|151.101.0.133|:443... connected.\n",
            "HTTP request sent, awaiting response... 200 OK\n",
            "Length: 5326 (5.2K) [text/plain]\n",
            "Saving to: ‘clr_callback.py’\n",
            "\n",
            "\rclr_callback.py       0%[                    ]       0  --.-KB/s               \rclr_callback.py     100%[===================>]   5.20K  --.-KB/s    in 0s      \n",
            "\n",
            "2018-10-19 08:17:40 (48.8 MB/s) - ‘clr_callback.py’ saved [5326/5326]\n",
            "\n"
          ],
          "name": "stdout"
        }
      ]
    },
    {
      "metadata": {
        "id": "ngfZDqIn169P",
        "colab_type": "code",
        "colab": {}
      },
      "cell_type": "code",
      "source": [
        "def plot_model_history(model_history):\n",
        "    fig, axs = plt.subplots(1,2,figsize=(15,5))\n",
        "    # summarize history for accuracy\n",
        "    axs[0].plot(range(1,len(model_history.history['acc'])+1),model_history.history['acc'])\n",
        "    axs[0].plot(range(1,len(model_history.history['val_acc'])+1),model_history.history['val_acc'])\n",
        "    axs[0].set_title('Model Accuracy')\n",
        "    axs[0].set_ylabel('Accuracy')\n",
        "    axs[0].set_xlabel('Epoch')\n",
        "    axs[0].set_xticks(np.arange(1,len(model_history.history['acc'])+1),len(model_history.history['acc'])/10)\n",
        "    axs[0].legend(['train', 'val'], loc='best')\n",
        "    # summarize history for loss\n",
        "    axs[1].plot(range(1,len(model_history.history['loss'])+1),model_history.history['loss'])\n",
        "    axs[1].plot(range(1,len(model_history.history['val_loss'])+1),model_history.history['val_loss'])\n",
        "    axs[1].set_title('Model Loss')\n",
        "    axs[1].set_ylabel('Loss')\n",
        "    axs[1].set_xlabel('Epoch')\n",
        "    axs[1].set_xticks(np.arange(1,len(model_history.history['loss'])+1),len(model_history.history['loss'])/10)\n",
        "    axs[1].legend(['train', 'val'], loc='best')\n",
        "    plt.show()"
      ],
      "execution_count": 0,
      "outputs": []
    },
    {
      "metadata": {
        "id": "3UF_GpLv18dK",
        "colab_type": "code",
        "colab": {}
      },
      "cell_type": "code",
      "source": [
        "def accuracy(test_x, test_y, model):\n",
        "    result = model.predict(test_x)\n",
        "    predicted_class = np.argmax(result, axis=1)\n",
        "    true_class = np.argmax(test_y, axis=1)\n",
        "    num_correct = np.sum(predicted_class == true_class) \n",
        "    accuracy = float(num_correct)/result.shape[0]\n",
        "    return (accuracy * 100)"
      ],
      "execution_count": 0,
      "outputs": []
    },
    {
      "metadata": {
        "id": "dsO_yGxcg5D8",
        "colab_type": "code",
        "colab": {}
      },
      "cell_type": "code",
      "source": [
        "# Hyperparameters\n",
        "batch_size = 64\n",
        "num_classes = 10\n",
        "epochs = 250\n",
        "l = 12\n",
        "nb_filter = 24\n",
        "compression = 0.9\n",
        "dropout_rate = 0.0\n",
        "growth_rate = 12"
      ],
      "execution_count": 0,
      "outputs": []
    },
    {
      "metadata": {
        "id": "Md0-RFxigndF",
        "colab_type": "code",
        "colab": {}
      },
      "cell_type": "code",
      "source": [
        "def lr_schedule(epoch):\n",
        "    #lrate = 0.001\n",
        "    lrate = 0.01\n",
        "    if epoch > 75:\n",
        "        #lrate = 0.0005\n",
        "        lrate = 0.001\n",
        "    elif epoch > 150:\n",
        "        #lrate = 0.0003\n",
        "        lrate = 0.0001\n",
        "    return lrate"
      ],
      "execution_count": 0,
      "outputs": []
    },
    {
      "metadata": {
        "id": "mB7o3zu1g6eT",
        "colab_type": "code",
        "colab": {}
      },
      "cell_type": "code",
      "source": [
        "# Load CIFAR10 Data\n",
        "(x_train, y_train), (x_test, y_test) = cifar10.load_data()\n",
        "img_height, img_width, channel = x_train.shape[1],x_train.shape[2],x_train.shape[3]\n",
        "\n",
        "# convert to one hot encoding \n",
        "y_train = keras.utils.to_categorical(y_train, num_classes)\n",
        "y_test = keras.utils.to_categorical(y_test, num_classes)\n",
        "\n",
        "x_train = x_train.astype('float32')\n",
        "x_test = x_test.astype('float32')\n",
        "x_train /= 255.0\n",
        "x_test /= 255.0"
      ],
      "execution_count": 0,
      "outputs": []
    },
    {
      "metadata": {
        "id": "ee-sge5Kg7vr",
        "colab_type": "code",
        "colab": {}
      },
      "cell_type": "code",
      "source": [
        "# Dense Block\n",
        "def add_denseblock(input, num_filter = 12, dropout_rate = 0.2):\n",
        "    global compression, growth_rate, nb_filter\n",
        "    temp = input\n",
        "    for _ in range(l):\n",
        "        BatchNorm = BatchNormalization()(temp)\n",
        "        relu = Activation('relu')(BatchNorm)\n",
        "        Conv2D_3_3 = Conv2D(growth_rate, (3,3), use_bias=False ,padding='same')(relu)\n",
        "        if dropout_rate>0:\n",
        "          Conv2D_3_3 = Dropout(dropout_rate)(Conv2D_3_3)\n",
        "        concat = Concatenate(axis=-1)([temp,Conv2D_3_3])\n",
        "        nb_filter += growth_rate\n",
        "        temp = concat\n",
        "        \n",
        "    return temp"
      ],
      "execution_count": 0,
      "outputs": []
    },
    {
      "metadata": {
        "id": "OOP6IPsGhBwb",
        "colab_type": "code",
        "colab": {}
      },
      "cell_type": "code",
      "source": [
        "def add_transition(input, num_filter = 12, dropout_rate = 0.2):\n",
        "    global compression\n",
        "    BatchNorm = BatchNormalization()(input)\n",
        "    relu = Activation('relu')(BatchNorm)\n",
        "    Conv2D_BottleNeck = Conv2D(int(num_filter * compression), (1,1), use_bias=False ,padding='same')(relu)\n",
        "    if dropout_rate>0:\n",
        "      Conv2D_BottleNeck = Dropout(dropout_rate)(Conv2D_BottleNeck)\n",
        "    avg = AveragePooling2D(pool_size=(2,2))(Conv2D_BottleNeck)\n",
        "    \n",
        "    return avg"
      ],
      "execution_count": 0,
      "outputs": []
    },
    {
      "metadata": {
        "id": "0RaKFpubhDIC",
        "colab_type": "code",
        "colab": {}
      },
      "cell_type": "code",
      "source": [
        "def output_layer(input):\n",
        "    BatchNorm = BatchNormalization()(input)\n",
        "    relu = Activation('relu')(BatchNorm)\n",
        "    #AvgPooling = AveragePooling2D(pool_size=(2,2))(relu)\n",
        "    GlobalAvg = GlobalAveragePooling2D()(relu)\n",
        "    #flat = Flatten()(AvgPooling)\n",
        "    output = Dense(num_classes, activation='softmax')(GlobalAvg)\n",
        "    \n",
        "    return output"
      ],
      "execution_count": 0,
      "outputs": []
    },
    {
      "metadata": {
        "id": "anPCpQWhhGb7",
        "colab_type": "code",
        "colab": {}
      },
      "cell_type": "code",
      "source": [
        "#num_filter = 24\n",
        "#dropout_rate = 0.2\n",
        "#l = 12\n",
        "input = Input(shape=(img_height, img_width, channel,))\n",
        "First_Conv2D = Conv2D(nb_filter, (3,3), use_bias=False ,padding='same')(input)\n",
        "\n",
        "First_Block = add_denseblock(First_Conv2D, nb_filter, dropout_rate)\n",
        "First_Transition = add_transition(First_Block, nb_filter, dropout_rate)\n",
        "\n",
        "Second_Block = add_denseblock(First_Transition, nb_filter, dropout_rate)\n",
        "Second_Transition = add_transition(Second_Block, nb_filter, dropout_rate)\n",
        "\n",
        "Third_Block = add_denseblock(Second_Transition, nb_filter, dropout_rate)\n",
        "#Third_Transition = add_transition(Third_Block, num_filter, dropout_rate)\n",
        "\n",
        "output = output_layer(Third_Block)\n"
      ],
      "execution_count": 0,
      "outputs": []
    },
    {
      "metadata": {
        "id": "1kFh7pdxhNtT",
        "colab_type": "code",
        "outputId": "46cf6bfa-76c1-464a-9d7f-789e212bf387",
        "colab": {
          "base_uri": "https://localhost:8080/",
          "height": 6120
        }
      },
      "cell_type": "code",
      "source": [
        "model = Model(inputs=[input], outputs=[output])\n",
        "model.summary()"
      ],
      "execution_count": 0,
      "outputs": [
        {
          "output_type": "stream",
          "text": [
            "__________________________________________________________________________________________________\n",
            "Layer (type)                    Output Shape         Param #     Connected to                     \n",
            "==================================================================================================\n",
            "input_1 (InputLayer)            (None, 32, 32, 3)    0                                            \n",
            "__________________________________________________________________________________________________\n",
            "conv2d_1 (Conv2D)               (None, 32, 32, 24)   648         input_1[0][0]                    \n",
            "__________________________________________________________________________________________________\n",
            "batch_normalization_1 (BatchNor (None, 32, 32, 24)   96          conv2d_1[0][0]                   \n",
            "__________________________________________________________________________________________________\n",
            "activation_1 (Activation)       (None, 32, 32, 24)   0           batch_normalization_1[0][0]      \n",
            "__________________________________________________________________________________________________\n",
            "conv2d_2 (Conv2D)               (None, 32, 32, 12)   2592        activation_1[0][0]               \n",
            "__________________________________________________________________________________________________\n",
            "concatenate_1 (Concatenate)     (None, 32, 32, 36)   0           conv2d_1[0][0]                   \n",
            "                                                                 conv2d_2[0][0]                   \n",
            "__________________________________________________________________________________________________\n",
            "batch_normalization_2 (BatchNor (None, 32, 32, 36)   144         concatenate_1[0][0]              \n",
            "__________________________________________________________________________________________________\n",
            "activation_2 (Activation)       (None, 32, 32, 36)   0           batch_normalization_2[0][0]      \n",
            "__________________________________________________________________________________________________\n",
            "conv2d_3 (Conv2D)               (None, 32, 32, 12)   3888        activation_2[0][0]               \n",
            "__________________________________________________________________________________________________\n",
            "concatenate_2 (Concatenate)     (None, 32, 32, 48)   0           concatenate_1[0][0]              \n",
            "                                                                 conv2d_3[0][0]                   \n",
            "__________________________________________________________________________________________________\n",
            "batch_normalization_3 (BatchNor (None, 32, 32, 48)   192         concatenate_2[0][0]              \n",
            "__________________________________________________________________________________________________\n",
            "activation_3 (Activation)       (None, 32, 32, 48)   0           batch_normalization_3[0][0]      \n",
            "__________________________________________________________________________________________________\n",
            "conv2d_4 (Conv2D)               (None, 32, 32, 12)   5184        activation_3[0][0]               \n",
            "__________________________________________________________________________________________________\n",
            "concatenate_3 (Concatenate)     (None, 32, 32, 60)   0           concatenate_2[0][0]              \n",
            "                                                                 conv2d_4[0][0]                   \n",
            "__________________________________________________________________________________________________\n",
            "batch_normalization_4 (BatchNor (None, 32, 32, 60)   240         concatenate_3[0][0]              \n",
            "__________________________________________________________________________________________________\n",
            "activation_4 (Activation)       (None, 32, 32, 60)   0           batch_normalization_4[0][0]      \n",
            "__________________________________________________________________________________________________\n",
            "conv2d_5 (Conv2D)               (None, 32, 32, 12)   6480        activation_4[0][0]               \n",
            "__________________________________________________________________________________________________\n",
            "concatenate_4 (Concatenate)     (None, 32, 32, 72)   0           concatenate_3[0][0]              \n",
            "                                                                 conv2d_5[0][0]                   \n",
            "__________________________________________________________________________________________________\n",
            "batch_normalization_5 (BatchNor (None, 32, 32, 72)   288         concatenate_4[0][0]              \n",
            "__________________________________________________________________________________________________\n",
            "activation_5 (Activation)       (None, 32, 32, 72)   0           batch_normalization_5[0][0]      \n",
            "__________________________________________________________________________________________________\n",
            "conv2d_6 (Conv2D)               (None, 32, 32, 12)   7776        activation_5[0][0]               \n",
            "__________________________________________________________________________________________________\n",
            "concatenate_5 (Concatenate)     (None, 32, 32, 84)   0           concatenate_4[0][0]              \n",
            "                                                                 conv2d_6[0][0]                   \n",
            "__________________________________________________________________________________________________\n",
            "batch_normalization_6 (BatchNor (None, 32, 32, 84)   336         concatenate_5[0][0]              \n",
            "__________________________________________________________________________________________________\n",
            "activation_6 (Activation)       (None, 32, 32, 84)   0           batch_normalization_6[0][0]      \n",
            "__________________________________________________________________________________________________\n",
            "conv2d_7 (Conv2D)               (None, 32, 32, 12)   9072        activation_6[0][0]               \n",
            "__________________________________________________________________________________________________\n",
            "concatenate_6 (Concatenate)     (None, 32, 32, 96)   0           concatenate_5[0][0]              \n",
            "                                                                 conv2d_7[0][0]                   \n",
            "__________________________________________________________________________________________________\n",
            "batch_normalization_7 (BatchNor (None, 32, 32, 96)   384         concatenate_6[0][0]              \n",
            "__________________________________________________________________________________________________\n",
            "activation_7 (Activation)       (None, 32, 32, 96)   0           batch_normalization_7[0][0]      \n",
            "__________________________________________________________________________________________________\n",
            "conv2d_8 (Conv2D)               (None, 32, 32, 12)   10368       activation_7[0][0]               \n",
            "__________________________________________________________________________________________________\n",
            "concatenate_7 (Concatenate)     (None, 32, 32, 108)  0           concatenate_6[0][0]              \n",
            "                                                                 conv2d_8[0][0]                   \n",
            "__________________________________________________________________________________________________\n",
            "batch_normalization_8 (BatchNor (None, 32, 32, 108)  432         concatenate_7[0][0]              \n",
            "__________________________________________________________________________________________________\n",
            "activation_8 (Activation)       (None, 32, 32, 108)  0           batch_normalization_8[0][0]      \n",
            "__________________________________________________________________________________________________\n",
            "conv2d_9 (Conv2D)               (None, 32, 32, 12)   11664       activation_8[0][0]               \n",
            "__________________________________________________________________________________________________\n",
            "concatenate_8 (Concatenate)     (None, 32, 32, 120)  0           concatenate_7[0][0]              \n",
            "                                                                 conv2d_9[0][0]                   \n",
            "__________________________________________________________________________________________________\n",
            "batch_normalization_9 (BatchNor (None, 32, 32, 120)  480         concatenate_8[0][0]              \n",
            "__________________________________________________________________________________________________\n",
            "activation_9 (Activation)       (None, 32, 32, 120)  0           batch_normalization_9[0][0]      \n",
            "__________________________________________________________________________________________________\n",
            "conv2d_10 (Conv2D)              (None, 32, 32, 12)   12960       activation_9[0][0]               \n",
            "__________________________________________________________________________________________________\n",
            "concatenate_9 (Concatenate)     (None, 32, 32, 132)  0           concatenate_8[0][0]              \n",
            "                                                                 conv2d_10[0][0]                  \n",
            "__________________________________________________________________________________________________\n",
            "batch_normalization_10 (BatchNo (None, 32, 32, 132)  528         concatenate_9[0][0]              \n",
            "__________________________________________________________________________________________________\n",
            "activation_10 (Activation)      (None, 32, 32, 132)  0           batch_normalization_10[0][0]     \n",
            "__________________________________________________________________________________________________\n",
            "conv2d_11 (Conv2D)              (None, 32, 32, 12)   14256       activation_10[0][0]              \n",
            "__________________________________________________________________________________________________\n",
            "concatenate_10 (Concatenate)    (None, 32, 32, 144)  0           concatenate_9[0][0]              \n",
            "                                                                 conv2d_11[0][0]                  \n",
            "__________________________________________________________________________________________________\n",
            "batch_normalization_11 (BatchNo (None, 32, 32, 144)  576         concatenate_10[0][0]             \n",
            "__________________________________________________________________________________________________\n",
            "activation_11 (Activation)      (None, 32, 32, 144)  0           batch_normalization_11[0][0]     \n",
            "__________________________________________________________________________________________________\n",
            "conv2d_12 (Conv2D)              (None, 32, 32, 12)   15552       activation_11[0][0]              \n",
            "__________________________________________________________________________________________________\n",
            "concatenate_11 (Concatenate)    (None, 32, 32, 156)  0           concatenate_10[0][0]             \n",
            "                                                                 conv2d_12[0][0]                  \n",
            "__________________________________________________________________________________________________\n",
            "batch_normalization_12 (BatchNo (None, 32, 32, 156)  624         concatenate_11[0][0]             \n",
            "__________________________________________________________________________________________________\n",
            "activation_12 (Activation)      (None, 32, 32, 156)  0           batch_normalization_12[0][0]     \n",
            "__________________________________________________________________________________________________\n",
            "conv2d_13 (Conv2D)              (None, 32, 32, 12)   16848       activation_12[0][0]              \n",
            "__________________________________________________________________________________________________\n",
            "concatenate_12 (Concatenate)    (None, 32, 32, 168)  0           concatenate_11[0][0]             \n",
            "                                                                 conv2d_13[0][0]                  \n",
            "__________________________________________________________________________________________________\n",
            "batch_normalization_13 (BatchNo (None, 32, 32, 168)  672         concatenate_12[0][0]             \n",
            "__________________________________________________________________________________________________\n",
            "activation_13 (Activation)      (None, 32, 32, 168)  0           batch_normalization_13[0][0]     \n",
            "__________________________________________________________________________________________________\n",
            "conv2d_14 (Conv2D)              (None, 32, 32, 151)  25368       activation_13[0][0]              \n",
            "__________________________________________________________________________________________________\n",
            "average_pooling2d_1 (AveragePoo (None, 16, 16, 151)  0           conv2d_14[0][0]                  \n",
            "__________________________________________________________________________________________________\n",
            "batch_normalization_14 (BatchNo (None, 16, 16, 151)  604         average_pooling2d_1[0][0]        \n",
            "__________________________________________________________________________________________________\n",
            "activation_14 (Activation)      (None, 16, 16, 151)  0           batch_normalization_14[0][0]     \n",
            "__________________________________________________________________________________________________\n",
            "conv2d_15 (Conv2D)              (None, 16, 16, 12)   16308       activation_14[0][0]              \n",
            "__________________________________________________________________________________________________\n",
            "concatenate_13 (Concatenate)    (None, 16, 16, 163)  0           average_pooling2d_1[0][0]        \n",
            "                                                                 conv2d_15[0][0]                  \n",
            "__________________________________________________________________________________________________\n",
            "batch_normalization_15 (BatchNo (None, 16, 16, 163)  652         concatenate_13[0][0]             \n",
            "__________________________________________________________________________________________________\n",
            "activation_15 (Activation)      (None, 16, 16, 163)  0           batch_normalization_15[0][0]     \n",
            "__________________________________________________________________________________________________\n",
            "conv2d_16 (Conv2D)              (None, 16, 16, 12)   17604       activation_15[0][0]              \n",
            "__________________________________________________________________________________________________\n",
            "concatenate_14 (Concatenate)    (None, 16, 16, 175)  0           concatenate_13[0][0]             \n",
            "                                                                 conv2d_16[0][0]                  \n",
            "__________________________________________________________________________________________________\n",
            "batch_normalization_16 (BatchNo (None, 16, 16, 175)  700         concatenate_14[0][0]             \n",
            "__________________________________________________________________________________________________\n",
            "activation_16 (Activation)      (None, 16, 16, 175)  0           batch_normalization_16[0][0]     \n",
            "__________________________________________________________________________________________________\n",
            "conv2d_17 (Conv2D)              (None, 16, 16, 12)   18900       activation_16[0][0]              \n",
            "__________________________________________________________________________________________________\n",
            "concatenate_15 (Concatenate)    (None, 16, 16, 187)  0           concatenate_14[0][0]             \n",
            "                                                                 conv2d_17[0][0]                  \n",
            "__________________________________________________________________________________________________\n",
            "batch_normalization_17 (BatchNo (None, 16, 16, 187)  748         concatenate_15[0][0]             \n",
            "__________________________________________________________________________________________________\n",
            "activation_17 (Activation)      (None, 16, 16, 187)  0           batch_normalization_17[0][0]     \n",
            "__________________________________________________________________________________________________\n",
            "conv2d_18 (Conv2D)              (None, 16, 16, 12)   20196       activation_17[0][0]              \n",
            "__________________________________________________________________________________________________\n",
            "concatenate_16 (Concatenate)    (None, 16, 16, 199)  0           concatenate_15[0][0]             \n",
            "                                                                 conv2d_18[0][0]                  \n",
            "__________________________________________________________________________________________________\n",
            "batch_normalization_18 (BatchNo (None, 16, 16, 199)  796         concatenate_16[0][0]             \n",
            "__________________________________________________________________________________________________\n",
            "activation_18 (Activation)      (None, 16, 16, 199)  0           batch_normalization_18[0][0]     \n",
            "__________________________________________________________________________________________________\n",
            "conv2d_19 (Conv2D)              (None, 16, 16, 12)   21492       activation_18[0][0]              \n",
            "__________________________________________________________________________________________________\n",
            "concatenate_17 (Concatenate)    (None, 16, 16, 211)  0           concatenate_16[0][0]             \n",
            "                                                                 conv2d_19[0][0]                  \n",
            "__________________________________________________________________________________________________\n",
            "batch_normalization_19 (BatchNo (None, 16, 16, 211)  844         concatenate_17[0][0]             \n",
            "__________________________________________________________________________________________________\n",
            "activation_19 (Activation)      (None, 16, 16, 211)  0           batch_normalization_19[0][0]     \n",
            "__________________________________________________________________________________________________\n",
            "conv2d_20 (Conv2D)              (None, 16, 16, 12)   22788       activation_19[0][0]              \n",
            "__________________________________________________________________________________________________\n",
            "concatenate_18 (Concatenate)    (None, 16, 16, 223)  0           concatenate_17[0][0]             \n",
            "                                                                 conv2d_20[0][0]                  \n",
            "__________________________________________________________________________________________________\n",
            "batch_normalization_20 (BatchNo (None, 16, 16, 223)  892         concatenate_18[0][0]             \n",
            "__________________________________________________________________________________________________\n",
            "activation_20 (Activation)      (None, 16, 16, 223)  0           batch_normalization_20[0][0]     \n",
            "__________________________________________________________________________________________________\n",
            "conv2d_21 (Conv2D)              (None, 16, 16, 12)   24084       activation_20[0][0]              \n",
            "__________________________________________________________________________________________________\n",
            "concatenate_19 (Concatenate)    (None, 16, 16, 235)  0           concatenate_18[0][0]             \n",
            "                                                                 conv2d_21[0][0]                  \n",
            "__________________________________________________________________________________________________\n",
            "batch_normalization_21 (BatchNo (None, 16, 16, 235)  940         concatenate_19[0][0]             \n",
            "__________________________________________________________________________________________________\n",
            "activation_21 (Activation)      (None, 16, 16, 235)  0           batch_normalization_21[0][0]     \n",
            "__________________________________________________________________________________________________\n",
            "conv2d_22 (Conv2D)              (None, 16, 16, 12)   25380       activation_21[0][0]              \n",
            "__________________________________________________________________________________________________\n",
            "concatenate_20 (Concatenate)    (None, 16, 16, 247)  0           concatenate_19[0][0]             \n",
            "                                                                 conv2d_22[0][0]                  \n",
            "__________________________________________________________________________________________________\n",
            "batch_normalization_22 (BatchNo (None, 16, 16, 247)  988         concatenate_20[0][0]             \n",
            "__________________________________________________________________________________________________\n",
            "activation_22 (Activation)      (None, 16, 16, 247)  0           batch_normalization_22[0][0]     \n",
            "__________________________________________________________________________________________________\n",
            "conv2d_23 (Conv2D)              (None, 16, 16, 12)   26676       activation_22[0][0]              \n",
            "__________________________________________________________________________________________________\n",
            "concatenate_21 (Concatenate)    (None, 16, 16, 259)  0           concatenate_20[0][0]             \n",
            "                                                                 conv2d_23[0][0]                  \n",
            "__________________________________________________________________________________________________\n",
            "batch_normalization_23 (BatchNo (None, 16, 16, 259)  1036        concatenate_21[0][0]             \n",
            "__________________________________________________________________________________________________\n",
            "activation_23 (Activation)      (None, 16, 16, 259)  0           batch_normalization_23[0][0]     \n",
            "__________________________________________________________________________________________________\n",
            "conv2d_24 (Conv2D)              (None, 16, 16, 12)   27972       activation_23[0][0]              \n",
            "__________________________________________________________________________________________________\n",
            "concatenate_22 (Concatenate)    (None, 16, 16, 271)  0           concatenate_21[0][0]             \n",
            "                                                                 conv2d_24[0][0]                  \n",
            "__________________________________________________________________________________________________\n",
            "batch_normalization_24 (BatchNo (None, 16, 16, 271)  1084        concatenate_22[0][0]             \n",
            "__________________________________________________________________________________________________\n",
            "activation_24 (Activation)      (None, 16, 16, 271)  0           batch_normalization_24[0][0]     \n",
            "__________________________________________________________________________________________________\n",
            "conv2d_25 (Conv2D)              (None, 16, 16, 12)   29268       activation_24[0][0]              \n",
            "__________________________________________________________________________________________________\n",
            "concatenate_23 (Concatenate)    (None, 16, 16, 283)  0           concatenate_22[0][0]             \n",
            "                                                                 conv2d_25[0][0]                  \n",
            "__________________________________________________________________________________________________\n",
            "batch_normalization_25 (BatchNo (None, 16, 16, 283)  1132        concatenate_23[0][0]             \n",
            "__________________________________________________________________________________________________\n",
            "activation_25 (Activation)      (None, 16, 16, 283)  0           batch_normalization_25[0][0]     \n",
            "__________________________________________________________________________________________________\n",
            "conv2d_26 (Conv2D)              (None, 16, 16, 12)   30564       activation_25[0][0]              \n",
            "__________________________________________________________________________________________________\n",
            "concatenate_24 (Concatenate)    (None, 16, 16, 295)  0           concatenate_23[0][0]             \n",
            "                                                                 conv2d_26[0][0]                  \n",
            "__________________________________________________________________________________________________\n",
            "batch_normalization_26 (BatchNo (None, 16, 16, 295)  1180        concatenate_24[0][0]             \n",
            "__________________________________________________________________________________________________\n",
            "activation_26 (Activation)      (None, 16, 16, 295)  0           batch_normalization_26[0][0]     \n",
            "__________________________________________________________________________________________________\n",
            "conv2d_27 (Conv2D)              (None, 16, 16, 280)  82600       activation_26[0][0]              \n",
            "__________________________________________________________________________________________________\n",
            "average_pooling2d_2 (AveragePoo (None, 8, 8, 280)    0           conv2d_27[0][0]                  \n",
            "__________________________________________________________________________________________________\n",
            "batch_normalization_27 (BatchNo (None, 8, 8, 280)    1120        average_pooling2d_2[0][0]        \n",
            "__________________________________________________________________________________________________\n",
            "activation_27 (Activation)      (None, 8, 8, 280)    0           batch_normalization_27[0][0]     \n",
            "__________________________________________________________________________________________________\n",
            "conv2d_28 (Conv2D)              (None, 8, 8, 12)     30240       activation_27[0][0]              \n",
            "__________________________________________________________________________________________________\n",
            "concatenate_25 (Concatenate)    (None, 8, 8, 292)    0           average_pooling2d_2[0][0]        \n",
            "                                                                 conv2d_28[0][0]                  \n",
            "__________________________________________________________________________________________________\n",
            "batch_normalization_28 (BatchNo (None, 8, 8, 292)    1168        concatenate_25[0][0]             \n",
            "__________________________________________________________________________________________________\n",
            "activation_28 (Activation)      (None, 8, 8, 292)    0           batch_normalization_28[0][0]     \n",
            "__________________________________________________________________________________________________\n",
            "conv2d_29 (Conv2D)              (None, 8, 8, 12)     31536       activation_28[0][0]              \n",
            "__________________________________________________________________________________________________\n",
            "concatenate_26 (Concatenate)    (None, 8, 8, 304)    0           concatenate_25[0][0]             \n",
            "                                                                 conv2d_29[0][0]                  \n",
            "__________________________________________________________________________________________________\n",
            "batch_normalization_29 (BatchNo (None, 8, 8, 304)    1216        concatenate_26[0][0]             \n",
            "__________________________________________________________________________________________________\n",
            "activation_29 (Activation)      (None, 8, 8, 304)    0           batch_normalization_29[0][0]     \n",
            "__________________________________________________________________________________________________\n",
            "conv2d_30 (Conv2D)              (None, 8, 8, 12)     32832       activation_29[0][0]              \n",
            "__________________________________________________________________________________________________\n",
            "concatenate_27 (Concatenate)    (None, 8, 8, 316)    0           concatenate_26[0][0]             \n",
            "                                                                 conv2d_30[0][0]                  \n",
            "__________________________________________________________________________________________________\n",
            "batch_normalization_30 (BatchNo (None, 8, 8, 316)    1264        concatenate_27[0][0]             \n",
            "__________________________________________________________________________________________________\n",
            "activation_30 (Activation)      (None, 8, 8, 316)    0           batch_normalization_30[0][0]     \n",
            "__________________________________________________________________________________________________\n",
            "conv2d_31 (Conv2D)              (None, 8, 8, 12)     34128       activation_30[0][0]              \n",
            "__________________________________________________________________________________________________\n",
            "concatenate_28 (Concatenate)    (None, 8, 8, 328)    0           concatenate_27[0][0]             \n",
            "                                                                 conv2d_31[0][0]                  \n",
            "__________________________________________________________________________________________________\n",
            "batch_normalization_31 (BatchNo (None, 8, 8, 328)    1312        concatenate_28[0][0]             \n",
            "__________________________________________________________________________________________________\n",
            "activation_31 (Activation)      (None, 8, 8, 328)    0           batch_normalization_31[0][0]     \n",
            "__________________________________________________________________________________________________\n",
            "conv2d_32 (Conv2D)              (None, 8, 8, 12)     35424       activation_31[0][0]              \n",
            "__________________________________________________________________________________________________\n",
            "concatenate_29 (Concatenate)    (None, 8, 8, 340)    0           concatenate_28[0][0]             \n",
            "                                                                 conv2d_32[0][0]                  \n",
            "__________________________________________________________________________________________________\n",
            "batch_normalization_32 (BatchNo (None, 8, 8, 340)    1360        concatenate_29[0][0]             \n",
            "__________________________________________________________________________________________________\n",
            "activation_32 (Activation)      (None, 8, 8, 340)    0           batch_normalization_32[0][0]     \n",
            "__________________________________________________________________________________________________\n",
            "conv2d_33 (Conv2D)              (None, 8, 8, 12)     36720       activation_32[0][0]              \n",
            "__________________________________________________________________________________________________\n",
            "concatenate_30 (Concatenate)    (None, 8, 8, 352)    0           concatenate_29[0][0]             \n",
            "                                                                 conv2d_33[0][0]                  \n",
            "__________________________________________________________________________________________________\n",
            "batch_normalization_33 (BatchNo (None, 8, 8, 352)    1408        concatenate_30[0][0]             \n",
            "__________________________________________________________________________________________________\n",
            "activation_33 (Activation)      (None, 8, 8, 352)    0           batch_normalization_33[0][0]     \n",
            "__________________________________________________________________________________________________\n",
            "conv2d_34 (Conv2D)              (None, 8, 8, 12)     38016       activation_33[0][0]              \n",
            "__________________________________________________________________________________________________\n",
            "concatenate_31 (Concatenate)    (None, 8, 8, 364)    0           concatenate_30[0][0]             \n",
            "                                                                 conv2d_34[0][0]                  \n",
            "__________________________________________________________________________________________________\n",
            "batch_normalization_34 (BatchNo (None, 8, 8, 364)    1456        concatenate_31[0][0]             \n",
            "__________________________________________________________________________________________________\n",
            "activation_34 (Activation)      (None, 8, 8, 364)    0           batch_normalization_34[0][0]     \n",
            "__________________________________________________________________________________________________\n",
            "conv2d_35 (Conv2D)              (None, 8, 8, 12)     39312       activation_34[0][0]              \n",
            "__________________________________________________________________________________________________\n",
            "concatenate_32 (Concatenate)    (None, 8, 8, 376)    0           concatenate_31[0][0]             \n",
            "                                                                 conv2d_35[0][0]                  \n",
            "__________________________________________________________________________________________________\n",
            "batch_normalization_35 (BatchNo (None, 8, 8, 376)    1504        concatenate_32[0][0]             \n",
            "__________________________________________________________________________________________________\n",
            "activation_35 (Activation)      (None, 8, 8, 376)    0           batch_normalization_35[0][0]     \n",
            "__________________________________________________________________________________________________\n",
            "conv2d_36 (Conv2D)              (None, 8, 8, 12)     40608       activation_35[0][0]              \n",
            "__________________________________________________________________________________________________\n",
            "concatenate_33 (Concatenate)    (None, 8, 8, 388)    0           concatenate_32[0][0]             \n",
            "                                                                 conv2d_36[0][0]                  \n",
            "__________________________________________________________________________________________________\n",
            "batch_normalization_36 (BatchNo (None, 8, 8, 388)    1552        concatenate_33[0][0]             \n",
            "__________________________________________________________________________________________________\n",
            "activation_36 (Activation)      (None, 8, 8, 388)    0           batch_normalization_36[0][0]     \n",
            "__________________________________________________________________________________________________\n",
            "conv2d_37 (Conv2D)              (None, 8, 8, 12)     41904       activation_36[0][0]              \n",
            "__________________________________________________________________________________________________\n",
            "concatenate_34 (Concatenate)    (None, 8, 8, 400)    0           concatenate_33[0][0]             \n",
            "                                                                 conv2d_37[0][0]                  \n",
            "__________________________________________________________________________________________________\n",
            "batch_normalization_37 (BatchNo (None, 8, 8, 400)    1600        concatenate_34[0][0]             \n",
            "__________________________________________________________________________________________________\n",
            "activation_37 (Activation)      (None, 8, 8, 400)    0           batch_normalization_37[0][0]     \n",
            "__________________________________________________________________________________________________\n",
            "conv2d_38 (Conv2D)              (None, 8, 8, 12)     43200       activation_37[0][0]              \n",
            "__________________________________________________________________________________________________\n",
            "concatenate_35 (Concatenate)    (None, 8, 8, 412)    0           concatenate_34[0][0]             \n",
            "                                                                 conv2d_38[0][0]                  \n",
            "__________________________________________________________________________________________________\n",
            "batch_normalization_38 (BatchNo (None, 8, 8, 412)    1648        concatenate_35[0][0]             \n",
            "__________________________________________________________________________________________________\n",
            "activation_38 (Activation)      (None, 8, 8, 412)    0           batch_normalization_38[0][0]     \n",
            "__________________________________________________________________________________________________\n",
            "conv2d_39 (Conv2D)              (None, 8, 8, 12)     44496       activation_38[0][0]              \n",
            "__________________________________________________________________________________________________\n",
            "concatenate_36 (Concatenate)    (None, 8, 8, 424)    0           concatenate_35[0][0]             \n",
            "                                                                 conv2d_39[0][0]                  \n",
            "__________________________________________________________________________________________________\n",
            "batch_normalization_39 (BatchNo (None, 8, 8, 424)    1696        concatenate_36[0][0]             \n",
            "__________________________________________________________________________________________________\n",
            "activation_39 (Activation)      (None, 8, 8, 424)    0           batch_normalization_39[0][0]     \n",
            "__________________________________________________________________________________________________\n",
            "global_average_pooling2d_1 (Glo (None, 424)          0           activation_39[0][0]              \n",
            "__________________________________________________________________________________________________\n",
            "dense_1 (Dense)                 (None, 10)           4250        global_average_pooling2d_1[0][0] \n",
            "==================================================================================================\n",
            "Total params: 994,046\n",
            "Trainable params: 976,600\n",
            "Non-trainable params: 17,446\n",
            "__________________________________________________________________________________________________\n"
          ],
          "name": "stdout"
        }
      ]
    },
    {
      "metadata": {
        "id": "bZ5xJwV5L-rq",
        "colab_type": "code",
        "outputId": "be46f0bc-571b-41ce-ede2-3eebc26af6bd",
        "colab": {
          "base_uri": "https://localhost:8080/",
          "height": 34
        }
      },
      "cell_type": "code",
      "source": [
        "from google.colab import drive\n",
        "drive.mount('/content/gdrive')\n",
        "\n",
        "#model.load_weights(\"/content/gdrive/My Drive/Model Weights/DNST_CIFAR10/weights_with_aug.best.h5\")\n"
      ],
      "execution_count": 0,
      "outputs": [
        {
          "output_type": "stream",
          "text": [
            "Drive already mounted at /content/gdrive; to attempt to forcibly remount, call drive.mount(\"/content/gdrive\", force_remount=True).\n"
          ],
          "name": "stdout"
        }
      ]
    },
    {
      "metadata": {
        "id": "How_jcUCWhlC",
        "colab_type": "code",
        "colab": {}
      },
      "cell_type": "code",
      "source": [
        "#data augmentation\n",
        "datagen = ImageDataGenerator(\n",
        "    rotation_range=15,\n",
        "    width_shift_range=0.1,\n",
        "    height_shift_range=0.1,\n",
        "    horizontal_flip=True,\n",
        "    )\n",
        "datagen.fit(x_train)"
      ],
      "execution_count": 0,
      "outputs": []
    },
    {
      "metadata": {
        "id": "NE92rHJDNsv8",
        "colab_type": "code",
        "colab": {}
      },
      "cell_type": "code",
      "source": [
        "sgd = SGD(lr=0.01, decay=1e-6, momentum=0.9, nesterov=True)"
      ],
      "execution_count": 0,
      "outputs": []
    },
    {
      "metadata": {
        "id": "sVdDHn4AZSoX",
        "colab_type": "code",
        "colab": {}
      },
      "cell_type": "code",
      "source": [
        "lr_reducer      = ReduceLROnPlateau(monitor='val_acc', factor=np.sqrt(0.1),\n",
        "                                    cooldown=0, patience=5, min_lr=1e-5)"
      ],
      "execution_count": 0,
      "outputs": []
    },
    {
      "metadata": {
        "id": "b4XOsW3ahSkL",
        "colab_type": "code",
        "colab": {}
      },
      "cell_type": "code",
      "source": [
        "# determine Loss function and Optimizer\n",
        "model.compile(loss='categorical_crossentropy',\n",
        "              optimizer=sgd,\n",
        "              metrics=['accuracy'])"
      ],
      "execution_count": 0,
      "outputs": []
    },
    {
      "metadata": {
        "id": "sP5o8hxODJVK",
        "colab_type": "code",
        "colab": {}
      },
      "cell_type": "code",
      "source": [
        ""
      ],
      "execution_count": 0,
      "outputs": []
    },
    {
      "metadata": {
        "id": "crhGk7kEhXAz",
        "colab_type": "code",
        "colab": {}
      },
      "cell_type": "code",
      "source": [
        "# run_type = \"RunX_IMG_AUG_LR_SCH\"\n",
        "# epoch_set = 10\n",
        "# for ep in range(1,26):\n",
        "#   print('Running iteration: ' + str(ep))\n",
        "#   #model.fit(x_train, y_train,\n",
        "#   #                  batch_size=batch_size,\n",
        "#   #                  epochs=epoch_set,\n",
        "#   #                  verbose=1,\n",
        "#   #                  validation_data=(x_test, y_test))\n",
        "#   #model.fit_generator(datagen.flow(x_train, y_train, batch_size=batch_size),\\\n",
        "#   #                  steps_per_epoch=x_train.shape[0] // batch_size,epochs=epoch_set,\\\n",
        "#   #                  verbose=1,validation_data=(x_test,y_test),callbacks=[LearningRateScheduler(lr_schedule)])  \n",
        "#   path = \"/content/gdrive/My Drive/Model Weights/DNST_CIFAR10/DNST_model_\" + run_type + \"_\" + str((ep * epoch_set))\n",
        "#   model.save_weights(path)\n",
        "#   model_json = model.to_json()\n",
        "#   json_path = path + \".json\"\n",
        "#   with open(json_path, 'w') as json_file:\n",
        "#     json_file.write(model_json)\n"
      ],
      "execution_count": 0,
      "outputs": []
    },
    {
      "metadata": {
        "id": "yBCgLZtupeJm",
        "colab_type": "code",
        "colab": {}
      },
      "cell_type": "code",
      "source": [
        "# checkpoint\n",
        "filepath=\"/content/gdrive/My Drive/Model Weights/DNST_CIFAR10/weights_with_lrsch.best.h5\"\n",
        "checkpoint = ModelCheckpoint(filepath, monitor='val_acc', verbose=1, save_best_only=True, mode='max')\n",
        "#clr_triangular = CyclicLR(mode='triangular2')\n",
        "#clr_triangular = CyclicLR(base_lr=0.001, max_lr=0.006, step_size=2000., mode='triangular2')\n",
        "callbacks_list = [checkpoint, lr_reducer]\n",
        "#callbacks_list = [checkpoint, LearningRateScheduler(lr_schedule)]\n",
        "#callbacks_list = [checkpoint, clr_triangular]\n",
        "\n"
      ],
      "execution_count": 0,
      "outputs": []
    },
    {
      "metadata": {
        "id": "A1oTp_jR09VG",
        "colab_type": "code",
        "colab": {}
      },
      "cell_type": "code",
      "source": [
        "#epochs=155"
      ],
      "execution_count": 0,
      "outputs": []
    },
    {
      "metadata": {
        "id": "l4_dcujlA56p",
        "colab_type": "code",
        "outputId": "4507da97-0682-425c-e36f-898fd00b34f5",
        "colab": {
          "base_uri": "https://localhost:8080/",
          "height": 4916
        }
      },
      "cell_type": "code",
      "source": [
        "start = time.time()\n",
        "model_info = model.fit_generator(datagen.flow(x_train, y_train, batch_size=batch_size),\\\n",
        "                    steps_per_epoch=x_train.shape[0] // batch_size,epochs=epochs,\\\n",
        "                    verbose=1, validation_data=(x_test,y_test),\\\n",
        "                    callbacks=callbacks_list) \n",
        "end = time.time()\n"
      ],
      "execution_count": 0,
      "outputs": [
        {
          "output_type": "stream",
          "text": [
            "WARNING:tensorflow:Variable *= will be deprecated. Use `var.assign(var * other)` if you want assignment to the variable value or `x = x * y` if you want a new python Tensor object.\n",
            "Epoch 1/250\n",
            "781/781 [==============================] - 283s 362ms/step - loss: 1.4007 - acc: 0.4924 - val_loss: 1.5455 - val_acc: 0.4917\n",
            "\n",
            "Epoch 00001: val_acc improved from -inf to 0.49170, saving model to /content/gdrive/My Drive/Model Weights/DNST_CIFAR10/weights_with_lrsch.best.h5\n",
            "Epoch 2/250\n",
            "781/781 [==============================] - 270s 346ms/step - loss: 0.9953 - acc: 0.6457 - val_loss: 1.1008 - val_acc: 0.6185\n",
            "\n",
            "Epoch 00002: val_acc improved from 0.49170 to 0.61850, saving model to /content/gdrive/My Drive/Model Weights/DNST_CIFAR10/weights_with_lrsch.best.h5\n",
            "Epoch 3/250\n",
            "781/781 [==============================] - 271s 347ms/step - loss: 0.8350 - acc: 0.7047 - val_loss: 2.5236 - val_acc: 0.4152\n",
            "\n",
            "Epoch 00003: val_acc did not improve from 0.61850\n",
            "Epoch 4/250\n",
            "781/781 [==============================] - 271s 347ms/step - loss: 0.7295 - acc: 0.7467 - val_loss: 1.1593 - val_acc: 0.6473\n",
            "\n",
            "Epoch 00004: val_acc improved from 0.61850 to 0.64730, saving model to /content/gdrive/My Drive/Model Weights/DNST_CIFAR10/weights_with_lrsch.best.h5\n",
            "Epoch 5/250\n",
            "781/781 [==============================] - 270s 346ms/step - loss: 0.6486 - acc: 0.7756 - val_loss: 1.0186 - val_acc: 0.6819\n",
            "\n",
            "Epoch 00005: val_acc improved from 0.64730 to 0.68190, saving model to /content/gdrive/My Drive/Model Weights/DNST_CIFAR10/weights_with_lrsch.best.h5\n",
            "Epoch 6/250\n",
            "781/781 [==============================] - 271s 347ms/step - loss: 0.5954 - acc: 0.7929 - val_loss: 1.0501 - val_acc: 0.6813\n",
            "\n",
            "Epoch 00006: val_acc did not improve from 0.68190\n",
            "Epoch 7/250\n",
            "781/781 [==============================] - 271s 347ms/step - loss: 0.5470 - acc: 0.8114 - val_loss: 0.9239 - val_acc: 0.7140\n",
            "\n",
            "Epoch 00007: val_acc improved from 0.68190 to 0.71400, saving model to /content/gdrive/My Drive/Model Weights/DNST_CIFAR10/weights_with_lrsch.best.h5\n",
            "Epoch 8/250\n",
            "781/781 [==============================] - 270s 346ms/step - loss: 0.5142 - acc: 0.8217 - val_loss: 0.7645 - val_acc: 0.7626\n",
            "\n",
            "Epoch 00008: val_acc improved from 0.71400 to 0.76260, saving model to /content/gdrive/My Drive/Model Weights/DNST_CIFAR10/weights_with_lrsch.best.h5\n",
            "Epoch 9/250\n",
            "781/781 [==============================] - 271s 347ms/step - loss: 0.4826 - acc: 0.8331 - val_loss: 0.8599 - val_acc: 0.7387\n",
            "\n",
            "Epoch 00009: val_acc did not improve from 0.76260\n",
            "Epoch 10/250\n",
            "781/781 [==============================] - 270s 346ms/step - loss: 0.4562 - acc: 0.8443 - val_loss: 0.7889 - val_acc: 0.7530\n",
            "\n",
            "Epoch 00010: val_acc did not improve from 0.76260\n",
            "Epoch 11/250\n",
            "781/781 [==============================] - 271s 347ms/step - loss: 0.4341 - acc: 0.8513 - val_loss: 1.0393 - val_acc: 0.7139\n",
            "\n",
            "Epoch 00011: val_acc did not improve from 0.76260\n",
            "Epoch 12/250\n",
            "781/781 [==============================] - 272s 348ms/step - loss: 0.4146 - acc: 0.8581 - val_loss: 0.8427 - val_acc: 0.7580\n",
            "\n",
            "Epoch 00012: val_acc did not improve from 0.76260\n",
            "Epoch 13/250\n",
            "781/781 [==============================] - 270s 346ms/step - loss: 0.3938 - acc: 0.8641 - val_loss: 0.8913 - val_acc: 0.7597\n",
            "\n",
            "Epoch 00013: val_acc did not improve from 0.76260\n",
            "Epoch 14/250\n",
            "781/781 [==============================] - 271s 347ms/step - loss: 0.3181 - acc: 0.8915 - val_loss: 0.4480 - val_acc: 0.8481\n",
            "\n",
            "Epoch 00014: val_acc improved from 0.76260 to 0.84810, saving model to /content/gdrive/My Drive/Model Weights/DNST_CIFAR10/weights_with_lrsch.best.h5\n",
            "Epoch 15/250\n",
            "781/781 [==============================] - 270s 346ms/step - loss: 0.2948 - acc: 0.8971 - val_loss: 0.4115 - val_acc: 0.8594\n",
            "\n",
            "Epoch 00015: val_acc improved from 0.84810 to 0.85940, saving model to /content/gdrive/My Drive/Model Weights/DNST_CIFAR10/weights_with_lrsch.best.h5\n",
            "Epoch 16/250\n",
            "781/781 [==============================] - 271s 348ms/step - loss: 0.2855 - acc: 0.9022 - val_loss: 0.4676 - val_acc: 0.8501\n",
            "\n",
            "Epoch 00016: val_acc did not improve from 0.85940\n",
            "Epoch 17/250\n",
            "781/781 [==============================] - 270s 346ms/step - loss: 0.2777 - acc: 0.9040 - val_loss: 0.4480 - val_acc: 0.8551\n",
            "\n",
            "Epoch 00017: val_acc did not improve from 0.85940\n",
            "Epoch 18/250\n",
            "781/781 [==============================] - 272s 348ms/step - loss: 0.2724 - acc: 0.9056 - val_loss: 0.5172 - val_acc: 0.8375\n",
            "\n",
            "Epoch 00018: val_acc did not improve from 0.85940\n",
            "Epoch 19/250\n",
            "781/781 [==============================] - 270s 346ms/step - loss: 0.2653 - acc: 0.9084 - val_loss: 0.4158 - val_acc: 0.8645\n",
            "\n",
            "Epoch 00019: val_acc improved from 0.85940 to 0.86450, saving model to /content/gdrive/My Drive/Model Weights/DNST_CIFAR10/weights_with_lrsch.best.h5\n",
            "Epoch 20/250\n",
            "781/781 [==============================] - 271s 347ms/step - loss: 0.2633 - acc: 0.9090 - val_loss: 0.5240 - val_acc: 0.8362\n",
            "\n",
            "Epoch 00020: val_acc did not improve from 0.86450\n",
            "Epoch 21/250\n",
            "781/781 [==============================] - 271s 347ms/step - loss: 0.2517 - acc: 0.9136 - val_loss: 0.4603 - val_acc: 0.8515\n",
            "\n",
            "Epoch 00021: val_acc did not improve from 0.86450\n",
            "Epoch 22/250\n",
            "781/781 [==============================] - 271s 347ms/step - loss: 0.2492 - acc: 0.9146 - val_loss: 0.5037 - val_acc: 0.8428\n",
            "\n",
            "Epoch 00022: val_acc did not improve from 0.86450\n",
            "Epoch 23/250\n",
            "781/781 [==============================] - 271s 347ms/step - loss: 0.2422 - acc: 0.9158 - val_loss: 0.4843 - val_acc: 0.8437\n",
            "\n",
            "Epoch 00023: val_acc did not improve from 0.86450\n",
            "Epoch 24/250\n",
            "781/781 [==============================] - 270s 346ms/step - loss: 0.2377 - acc: 0.9158 - val_loss: 0.4066 - val_acc: 0.8684\n",
            "\n",
            "Epoch 00024: val_acc improved from 0.86450 to 0.86840, saving model to /content/gdrive/My Drive/Model Weights/DNST_CIFAR10/weights_with_lrsch.best.h5\n",
            "Epoch 25/250\n",
            "781/781 [==============================] - 271s 348ms/step - loss: 0.2371 - acc: 0.9172 - val_loss: 0.4337 - val_acc: 0.8648\n",
            "\n",
            "Epoch 00025: val_acc did not improve from 0.86840\n",
            "Epoch 26/250\n",
            "781/781 [==============================] - 271s 347ms/step - loss: 0.2260 - acc: 0.9210 - val_loss: 0.4140 - val_acc: 0.8656\n",
            "\n",
            "Epoch 00026: val_acc did not improve from 0.86840\n",
            "Epoch 27/250\n",
            "781/781 [==============================] - 271s 348ms/step - loss: 0.2260 - acc: 0.9211 - val_loss: 0.4191 - val_acc: 0.8689\n",
            "\n",
            "Epoch 00027: val_acc improved from 0.86840 to 0.86890, saving model to /content/gdrive/My Drive/Model Weights/DNST_CIFAR10/weights_with_lrsch.best.h5\n",
            "Epoch 28/250\n",
            "781/781 [==============================] - 271s 346ms/step - loss: 0.2192 - acc: 0.9235 - val_loss: 0.4119 - val_acc: 0.8678\n",
            "\n",
            "Epoch 00028: val_acc did not improve from 0.86890\n",
            "Epoch 29/250\n",
            "781/781 [==============================] - 271s 347ms/step - loss: 0.2191 - acc: 0.9241 - val_loss: 0.5019 - val_acc: 0.8463\n",
            "\n",
            "Epoch 00029: val_acc did not improve from 0.86890\n",
            "Epoch 30/250\n",
            "781/781 [==============================] - 272s 348ms/step - loss: 0.2169 - acc: 0.9245 - val_loss: 0.4587 - val_acc: 0.8634\n",
            "\n",
            "Epoch 00030: val_acc did not improve from 0.86890\n",
            "Epoch 31/250\n",
            "781/781 [==============================] - 271s 347ms/step - loss: 0.2083 - acc: 0.9279 - val_loss: 0.6052 - val_acc: 0.8304\n",
            "\n",
            "Epoch 00031: val_acc did not improve from 0.86890\n",
            "Epoch 32/250\n",
            "781/781 [==============================] - 271s 347ms/step - loss: 0.2080 - acc: 0.9270 - val_loss: 0.4330 - val_acc: 0.8653\n",
            "\n",
            "Epoch 00032: val_acc did not improve from 0.86890\n",
            "Epoch 33/250\n",
            "781/781 [==============================] - 270s 346ms/step - loss: 0.1708 - acc: 0.9424 - val_loss: 0.3527 - val_acc: 0.8856\n",
            "\n",
            "Epoch 00033: val_acc improved from 0.86890 to 0.88560, saving model to /content/gdrive/My Drive/Model Weights/DNST_CIFAR10/weights_with_lrsch.best.h5\n",
            "Epoch 34/250\n",
            "781/781 [==============================] - 271s 347ms/step - loss: 0.1655 - acc: 0.9433 - val_loss: 0.3601 - val_acc: 0.8877\n",
            "\n",
            "Epoch 00034: val_acc improved from 0.88560 to 0.88770, saving model to /content/gdrive/My Drive/Model Weights/DNST_CIFAR10/weights_with_lrsch.best.h5\n",
            "Epoch 35/250\n",
            "781/781 [==============================] - 271s 347ms/step - loss: 0.1595 - acc: 0.9464 - val_loss: 0.4142 - val_acc: 0.8730\n",
            "\n",
            "Epoch 00035: val_acc did not improve from 0.88770\n",
            "Epoch 36/250\n",
            "781/781 [==============================] - 271s 347ms/step - loss: 0.1606 - acc: 0.9456 - val_loss: 0.3453 - val_acc: 0.8902\n",
            "\n",
            "Epoch 00036: val_acc improved from 0.88770 to 0.89020, saving model to /content/gdrive/My Drive/Model Weights/DNST_CIFAR10/weights_with_lrsch.best.h5\n",
            "Epoch 37/250\n",
            "781/781 [==============================] - 272s 348ms/step - loss: 0.1544 - acc: 0.9463 - val_loss: 0.3430 - val_acc: 0.8888\n",
            "\n",
            "Epoch 00037: val_acc did not improve from 0.89020\n",
            "Epoch 38/250\n",
            "781/781 [==============================] - 270s 346ms/step - loss: 0.1526 - acc: 0.9480 - val_loss: 0.3720 - val_acc: 0.8839\n",
            "\n",
            "Epoch 00038: val_acc did not improve from 0.89020\n",
            "Epoch 39/250\n",
            "781/781 [==============================] - 271s 347ms/step - loss: 0.1491 - acc: 0.9494 - val_loss: 0.3453 - val_acc: 0.8867\n",
            "\n",
            "Epoch 00039: val_acc did not improve from 0.89020\n",
            "Epoch 40/250\n",
            "781/781 [==============================] - 270s 346ms/step - loss: 0.1488 - acc: 0.9484 - val_loss: 0.3475 - val_acc: 0.8895\n",
            "\n",
            "Epoch 00040: val_acc did not improve from 0.89020\n",
            "Epoch 41/250\n",
            "781/781 [==============================] - 272s 348ms/step - loss: 0.1500 - acc: 0.9481 - val_loss: 0.3670 - val_acc: 0.8860\n",
            "\n",
            "Epoch 00041: val_acc did not improve from 0.89020\n",
            "Epoch 42/250\n",
            "781/781 [==============================] - 271s 346ms/step - loss: 0.1392 - acc: 0.9527 - val_loss: 0.3185 - val_acc: 0.8980\n",
            "\n",
            "Epoch 00042: val_acc improved from 0.89020 to 0.89800, saving model to /content/gdrive/My Drive/Model Weights/DNST_CIFAR10/weights_with_lrsch.best.h5\n",
            "Epoch 43/250\n",
            "781/781 [==============================] - 271s 347ms/step - loss: 0.1359 - acc: 0.9536 - val_loss: 0.3197 - val_acc: 0.8976\n",
            "\n",
            "Epoch 00043: val_acc did not improve from 0.89800\n",
            "Epoch 44/250\n",
            "781/781 [==============================] - 270s 346ms/step - loss: 0.1336 - acc: 0.9542 - val_loss: 0.3371 - val_acc: 0.8936\n",
            "\n",
            "Epoch 00044: val_acc did not improve from 0.89800\n",
            "Epoch 45/250\n",
            "781/781 [==============================] - 271s 347ms/step - loss: 0.1330 - acc: 0.9530 - val_loss: 0.3276 - val_acc: 0.8949\n",
            "\n",
            "Epoch 00045: val_acc did not improve from 0.89800\n",
            "Epoch 46/250\n",
            "781/781 [==============================] - 271s 346ms/step - loss: 0.1331 - acc: 0.9550 - val_loss: 0.3166 - val_acc: 0.8987\n",
            "\n",
            "Epoch 00046: val_acc improved from 0.89800 to 0.89870, saving model to /content/gdrive/My Drive/Model Weights/DNST_CIFAR10/weights_with_lrsch.best.h5\n",
            "Epoch 47/250\n",
            "781/781 [==============================] - 271s 347ms/step - loss: 0.1289 - acc: 0.9573 - val_loss: 0.3280 - val_acc: 0.8965\n",
            "\n",
            "Epoch 00047: val_acc did not improve from 0.89870\n",
            "Epoch 48/250\n",
            "781/781 [==============================] - 271s 347ms/step - loss: 0.1315 - acc: 0.9549 - val_loss: 0.3319 - val_acc: 0.8936\n",
            "\n",
            "Epoch 00048: val_acc did not improve from 0.89870\n",
            "Epoch 49/250\n",
            "781/781 [==============================] - 271s 346ms/step - loss: 0.1304 - acc: 0.9547 - val_loss: 0.3309 - val_acc: 0.8939\n",
            "\n",
            "Epoch 00049: val_acc did not improve from 0.89870\n",
            "Epoch 50/250\n",
            "781/781 [==============================] - 271s 347ms/step - loss: 0.1275 - acc: 0.9567 - val_loss: 0.3280 - val_acc: 0.8953\n",
            "\n",
            "Epoch 00050: val_acc did not improve from 0.89870\n",
            "Epoch 51/250\n",
            "781/781 [==============================] - 270s 346ms/step - loss: 0.1249 - acc: 0.9576 - val_loss: 0.3224 - val_acc: 0.8970\n",
            "\n",
            "Epoch 00051: val_acc did not improve from 0.89870\n",
            "Epoch 52/250\n",
            "781/781 [==============================] - 271s 347ms/step - loss: 0.1238 - acc: 0.9579 - val_loss: 0.3280 - val_acc: 0.8972\n",
            "\n",
            "Epoch 00052: val_acc did not improve from 0.89870\n",
            "Epoch 53/250\n",
            "781/781 [==============================] - 270s 346ms/step - loss: 0.1228 - acc: 0.9577 - val_loss: 0.3268 - val_acc: 0.8974\n",
            "\n",
            "Epoch 00053: val_acc did not improve from 0.89870\n",
            "Epoch 54/250\n",
            "781/781 [==============================] - 272s 348ms/step - loss: 0.1249 - acc: 0.9577 - val_loss: 0.3264 - val_acc: 0.8973\n",
            "\n",
            "Epoch 00054: val_acc did not improve from 0.89870\n",
            "Epoch 55/250\n",
            "781/781 [==============================] - 270s 346ms/step - loss: 0.1252 - acc: 0.9578 - val_loss: 0.3265 - val_acc: 0.8977\n",
            "\n",
            "Epoch 00055: val_acc did not improve from 0.89870\n",
            "Epoch 56/250\n",
            "781/781 [==============================] - 271s 347ms/step - loss: 0.1220 - acc: 0.9587 - val_loss: 0.3275 - val_acc: 0.8972\n",
            "\n",
            "Epoch 00056: val_acc did not improve from 0.89870\n",
            "Epoch 57/250\n",
            "781/781 [==============================] - 270s 345ms/step - loss: 0.1227 - acc: 0.9579 - val_loss: 0.3265 - val_acc: 0.8969\n",
            "\n",
            "Epoch 00057: val_acc did not improve from 0.89870\n",
            "Epoch 58/250\n",
            "781/781 [==============================] - 271s 347ms/step - loss: 0.1205 - acc: 0.9588 - val_loss: 0.3254 - val_acc: 0.8970\n",
            "\n",
            "Epoch 00058: val_acc did not improve from 0.89870\n",
            "Epoch 59/250\n",
            "781/781 [==============================] - 270s 346ms/step - loss: 0.1204 - acc: 0.9597 - val_loss: 0.3252 - val_acc: 0.8971\n",
            "\n",
            "Epoch 00059: val_acc did not improve from 0.89870\n",
            "Epoch 60/250\n",
            "781/781 [==============================] - 270s 346ms/step - loss: 0.1218 - acc: 0.9585 - val_loss: 0.3273 - val_acc: 0.8971\n",
            "\n",
            "Epoch 00060: val_acc did not improve from 0.89870\n",
            "Epoch 61/250\n",
            "781/781 [==============================] - 272s 348ms/step - loss: 0.1222 - acc: 0.9579 - val_loss: 0.3272 - val_acc: 0.8970\n",
            "\n",
            "Epoch 00061: val_acc did not improve from 0.89870\n",
            "Epoch 62/250\n",
            "781/781 [==============================] - 270s 346ms/step - loss: 0.1206 - acc: 0.9582 - val_loss: 0.3242 - val_acc: 0.8970\n",
            "\n",
            "Epoch 00062: val_acc did not improve from 0.89870\n",
            "Epoch 63/250\n",
            "781/781 [==============================] - 271s 347ms/step - loss: 0.1190 - acc: 0.9599 - val_loss: 0.3268 - val_acc: 0.8971\n",
            "\n",
            "Epoch 00063: val_acc did not improve from 0.89870\n",
            "Epoch 64/250\n",
            "781/781 [==============================] - 271s 347ms/step - loss: 0.1207 - acc: 0.9590 - val_loss: 0.3278 - val_acc: 0.8974\n",
            "\n",
            "Epoch 00064: val_acc did not improve from 0.89870\n",
            "Epoch 65/250\n",
            "781/781 [==============================] - 270s 346ms/step - loss: 0.1213 - acc: 0.9591 - val_loss: 0.3247 - val_acc: 0.8981\n",
            "\n",
            "Epoch 00065: val_acc did not improve from 0.89870\n",
            "Epoch 66/250\n",
            "781/781 [==============================] - 271s 347ms/step - loss: 0.1189 - acc: 0.9589 - val_loss: 0.3253 - val_acc: 0.8981\n",
            "\n",
            "Epoch 00066: val_acc did not improve from 0.89870\n",
            "Epoch 67/250\n",
            "781/781 [==============================] - 270s 346ms/step - loss: 0.1202 - acc: 0.9589 - val_loss: 0.3257 - val_acc: 0.8979\n",
            "\n",
            "Epoch 00067: val_acc did not improve from 0.89870\n",
            "Epoch 68/250\n",
            "781/781 [==============================] - 272s 348ms/step - loss: 0.1180 - acc: 0.9598 - val_loss: 0.3258 - val_acc: 0.8978\n",
            "\n",
            "Epoch 00068: val_acc did not improve from 0.89870\n",
            "Epoch 69/250\n",
            "781/781 [==============================] - 269s 345ms/step - loss: 0.1180 - acc: 0.9605 - val_loss: 0.3226 - val_acc: 0.8983\n",
            "\n",
            "Epoch 00069: val_acc did not improve from 0.89870\n",
            "Epoch 70/250\n",
            "781/781 [==============================] - 271s 347ms/step - loss: 0.1215 - acc: 0.9575 - val_loss: 0.3249 - val_acc: 0.8985\n",
            "\n",
            "Epoch 00070: val_acc did not improve from 0.89870\n",
            "Epoch 71/250\n",
            "781/781 [==============================] - 269s 345ms/step - loss: 0.1205 - acc: 0.9588 - val_loss: 0.3265 - val_acc: 0.8984\n",
            "\n",
            "Epoch 00071: val_acc did not improve from 0.89870\n",
            "Epoch 72/250\n",
            "152/781 [====>.........................] - ETA: 3:22 - loss: 0.1225 - acc: 0.9586"
          ],
          "name": "stdout"
        }
      ]
    },
    {
      "metadata": {
        "id": "yzvKjFGh9sog",
        "colab_type": "code",
        "outputId": "2223f7a8-c480-462d-f57a-7dade7aea33f",
        "colab": {
          "base_uri": "https://localhost:8080/",
          "height": 384
        }
      },
      "cell_type": "code",
      "source": [
        "# plot model history\n",
        "plot_model_history(model_info)\n",
        "print(\"Model took %0.2f seconds to train\" % (end - start))\n",
        "# compute test accuracy\n",
        "print(\"Accuracy on test data is: %0.2f\" % accuracy(x_test, y_test, model))"
      ],
      "execution_count": 0,
      "outputs": [
        {
          "output_type": "display_data",
          "data": {
            "image/png": "[encoded data removed]",
            "text/plain": [
              "<matplotlib.figure.Figure at 0x7f0aed778dd8>"
            ]
          },
          "metadata": {
            "tags": []
          }
        },
        {
          "output_type": "stream",
          "text": [
            "Model took 1137.36 seconds to train\n",
            "Accuracy on test data is: 38.73\n"
          ],
          "name": "stdout"
        }
      ]
    },
    {
      "metadata": {
        "id": "ZcWydmIVhZGr",
        "colab_type": "code",
        "outputId": "93c0f262-92dd-44ef-b8bd-a3ac06e0d243",
        "colab": {
          "base_uri": "https://localhost:8080/",
          "height": 70
        }
      },
      "cell_type": "code",
      "source": [
        "# Test the model\n",
        "score = model.evaluate(x_test, y_test, verbose=1)\n",
        "print('Test loss:', score[0])\n",
        "print('Test accuracy:', score[1])"
      ],
      "execution_count": 0,
      "outputs": [
        {
          "output_type": "stream",
          "text": [
            "10000/10000 [==============================] - 11s 1ms/step\n",
            "Test loss: 1.6708751831054687\n",
            "Test accuracy: 0.3873\n"
          ],
          "name": "stdout"
        }
      ]
    },
    {
      "metadata": {
        "id": "UE3lF6EH1r_L",
        "colab_type": "code",
        "colab": {}
      },
      "cell_type": "code",
      "source": [
        "# # Save the trained weights in to .h5 format\n",
        "# model.save_weights(\"DNST_model.h5\")\n",
        "# print(\"Saved model to disk\")"
      ],
      "execution_count": 0,
      "outputs": []
    },
    {
      "metadata": {
        "id": "ai-yZ2ED5AK1",
        "colab_type": "code",
        "colab": {}
      },
      "cell_type": "code",
      "source": [
        "# from google.colab import files\n",
        "\n",
        "# files.download('DNST_model.h5')"
      ],
      "execution_count": 0,
      "outputs": []
    },
    {
      "metadata": {
        "id": "Og56VCRh5j8V",
        "colab_type": "code",
        "colab": {}
      },
      "cell_type": "code",
      "source": [
        "# from google.colab import drive\n",
        "# drive.mount('/content/gdrive')"
      ],
      "execution_count": 0,
      "outputs": []
    },
    {
      "metadata": {
        "id": "0p2FLz6oJYWF",
        "colab_type": "code",
        "colab": {}
      },
      "cell_type": "code",
      "source": [
        "# with open('/content/gdrive/My Drive/Model Weights/DNST_CIFAR10/foo.txt', 'w') as f:\n",
        "#   f.write('Hello Google Drive!')\n",
        "# !cat /content/gdrive/My\\ Drive/foo.txt"
      ],
      "execution_count": 0,
      "outputs": []
    },
    {
      "metadata": {
        "id": "BVbBMYOrIRz3",
        "colab_type": "text"
      },
      "cell_type": "markdown",
      "source": [
        ""
      ]
    },
    {
      "metadata": {
        "id": "TDl_LcL3bowG",
        "colab_type": "code",
        "outputId": "3fe68ad7-c964-47c0-9a03-5cde25ffc5bf",
        "colab": {
          "base_uri": "https://localhost:8080/",
          "height": 322
        }
      },
      "cell_type": "code",
      "source": [
        "from keras.datasets import cifar10 \n",
        "def show_imgs(X):\n",
        "    pyplot.figure(1)\n",
        "    k = 0\n",
        "    for i in range(0,4):\n",
        "        for j in range(0,4):\n",
        "            pyplot.subplot2grid((4,4),(i,j))\n",
        "            pyplot.imshow(toimage(X[k]))\n",
        "            k = k+1\n",
        "    # show the plot\n",
        "    pyplot.show()\n",
        " \n",
        "(x_train, y_train), (x_test, y_test) = cifar10.load_data()\n",
        "show_imgs(x_test[:16])"
      ],
      "execution_count": 0,
      "outputs": [
        {
          "output_type": "error",
          "ename": "NameError",
          "evalue": "ignored",
          "traceback": [
            "\u001b[0;31m---------------------------------------------------------------------------\u001b[0m",
            "\u001b[0;31mNameError\u001b[0m                                 Traceback (most recent call last)",
            "\u001b[0;32m<ipython-input-26-a30e32e58e82>\u001b[0m in \u001b[0;36m<module>\u001b[0;34m()\u001b[0m\n\u001b[1;32m     12\u001b[0m \u001b[0;34m\u001b[0m\u001b[0m\n\u001b[1;32m     13\u001b[0m \u001b[0;34m(\u001b[0m\u001b[0mx_train\u001b[0m\u001b[0;34m,\u001b[0m \u001b[0my_train\u001b[0m\u001b[0;34m)\u001b[0m\u001b[0;34m,\u001b[0m \u001b[0;34m(\u001b[0m\u001b[0mx_test\u001b[0m\u001b[0;34m,\u001b[0m \u001b[0my_test\u001b[0m\u001b[0;34m)\u001b[0m \u001b[0;34m=\u001b[0m \u001b[0mcifar10\u001b[0m\u001b[0;34m.\u001b[0m\u001b[0mload_data\u001b[0m\u001b[0;34m(\u001b[0m\u001b[0;34m)\u001b[0m\u001b[0;34m\u001b[0m\u001b[0m\n\u001b[0;32m---> 14\u001b[0;31m \u001b[0mshow_imgs\u001b[0m\u001b[0;34m(\u001b[0m\u001b[0mx_test\u001b[0m\u001b[0;34m[\u001b[0m\u001b[0;34m:\u001b[0m\u001b[0;36m16\u001b[0m\u001b[0;34m]\u001b[0m\u001b[0;34m)\u001b[0m\u001b[0;34m\u001b[0m\u001b[0m\n\u001b[0m",
            "\u001b[0;32m<ipython-input-26-a30e32e58e82>\u001b[0m in \u001b[0;36mshow_imgs\u001b[0;34m(X)\u001b[0m\n\u001b[1;32m      1\u001b[0m \u001b[0;32mfrom\u001b[0m \u001b[0mkeras\u001b[0m\u001b[0;34m.\u001b[0m\u001b[0mdatasets\u001b[0m \u001b[0;32mimport\u001b[0m \u001b[0mcifar10\u001b[0m\u001b[0;34m\u001b[0m\u001b[0m\n\u001b[1;32m      2\u001b[0m \u001b[0;32mdef\u001b[0m \u001b[0mshow_imgs\u001b[0m\u001b[0;34m(\u001b[0m\u001b[0mX\u001b[0m\u001b[0;34m)\u001b[0m\u001b[0;34m:\u001b[0m\u001b[0;34m\u001b[0m\u001b[0m\n\u001b[0;32m----> 3\u001b[0;31m     \u001b[0mpyplot\u001b[0m\u001b[0;34m.\u001b[0m\u001b[0mfigure\u001b[0m\u001b[0;34m(\u001b[0m\u001b[0;36m1\u001b[0m\u001b[0;34m)\u001b[0m\u001b[0;34m\u001b[0m\u001b[0m\n\u001b[0m\u001b[1;32m      4\u001b[0m     \u001b[0mk\u001b[0m \u001b[0;34m=\u001b[0m \u001b[0;36m0\u001b[0m\u001b[0;34m\u001b[0m\u001b[0m\n\u001b[1;32m      5\u001b[0m     \u001b[0;32mfor\u001b[0m \u001b[0mi\u001b[0m \u001b[0;32min\u001b[0m \u001b[0mrange\u001b[0m\u001b[0;34m(\u001b[0m\u001b[0;36m0\u001b[0m\u001b[0;34m,\u001b[0m\u001b[0;36m4\u001b[0m\u001b[0;34m)\u001b[0m\u001b[0;34m:\u001b[0m\u001b[0;34m\u001b[0m\u001b[0m\n",
            "\u001b[0;31mNameError\u001b[0m: name 'pyplot' is not defined"
          ]
        }
      ]
    },
    {
      "metadata": {
        "id": "l9hCGSXHbqqI",
        "colab_type": "code",
        "colab": {}
      },
      "cell_type": "code",
      "source": [
        ""
      ],
      "execution_count": 0,
      "outputs": []
    }
  ]
}