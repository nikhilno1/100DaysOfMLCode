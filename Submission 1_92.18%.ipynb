{
 "cells": [
  {
   "cell_type": "markdown",
   "metadata": {},
   "source": [
    "## Install Keras"
   ]
  },
  {
   "cell_type": "code",
   "execution_count": 1,
   "metadata": {
    "colab": {
     "base_uri": "https://localhost:8080/",
     "height": 35
    },
    "colab_type": "code",
    "executionInfo": {
     "elapsed": 5905,
     "status": "ok",
     "timestamp": 1540003949297,
     "user": {
      "displayName": "Nikhil Utane",
      "photoUrl": "",
      "userId": "17106433286041284792"
     },
     "user_tz": -330
    },
    "id": "K70hAckqg0EA",
    "outputId": "053fda5f-deb3-44e8-a715-643921e9217a",
    "scrolled": true
   },
   "outputs": [
    {
     "name": "stderr",
     "output_type": "stream",
     "text": [
      "Using TensorFlow backend.\n"
     ]
    }
   ],
   "source": [
    "# https://keras.io/\n",
    "!pip install -q keras\n",
    "import keras"
   ]
  },
  {
   "cell_type": "markdown",
   "metadata": {},
   "source": [
    "## Import Packages"
   ]
  },
  {
   "cell_type": "code",
   "execution_count": 0,
   "metadata": {
    "colab": {},
    "colab_type": "code",
    "id": "wVIx_KIigxPV"
   },
   "outputs": [],
   "source": [
    "import keras\n",
    "from keras.datasets import cifar10\n",
    "from keras.models import Model, Sequential\n",
    "from keras.layers import Dense, Dropout, Flatten, Input, AveragePooling2D, merge, Activation\n",
    "from keras.layers import Conv2D, MaxPooling2D, BatchNormalization, GlobalAveragePooling2D\n",
    "from keras.layers import Concatenate\n",
    "from keras.optimizers import SGD\n",
    "from keras.preprocessing.image import ImageDataGenerator\n",
    "from keras.callbacks import LearningRateScheduler\n",
    "from keras.callbacks import ModelCheckpoint\n",
    "\n",
    "import numpy as np\n",
    "import matplotlib.pyplot as plt\n",
    "%matplotlib inline\n",
    "from scipy.misc import toimage\n",
    "import time\n",
    "import math\n"
   ]
  },
  {
   "cell_type": "code",
   "execution_count": 0,
   "metadata": {
    "colab": {},
    "colab_type": "code",
    "id": "UNHw6luQg3gc"
   },
   "outputs": [],
   "source": [
    "# this part will prevent tensorflow to allocate all the available GPU Memory\n",
    "# backend\n",
    "import tensorflow as tf\n",
    "from keras import backend as k\n",
    "\n",
    "# Don't pre-allocate memory; allocate as-needed\n",
    "config = tf.ConfigProto()\n",
    "config.gpu_options.allow_growth = True\n",
    "\n",
    "# Create a session with the above options specified.\n",
    "k.tensorflow_backend.set_session(tf.Session(config=config))"
   ]
  },
  {
   "cell_type": "markdown",
   "metadata": {},
   "source": [
    "## Download Cyclical Learning Rate package "
   ]
  },
  {
   "cell_type": "code",
   "execution_count": 4,
   "metadata": {
    "colab": {
     "base_uri": "https://localhost:8080/",
     "height": 301
    },
    "colab_type": "code",
    "executionInfo": {
     "elapsed": 8729,
     "status": "ok",
     "timestamp": 1540003962783,
     "user": {
      "displayName": "Nikhil Utane",
      "photoUrl": "",
      "userId": "17106433286041284792"
     },
     "user_tz": -330
    },
    "id": "Mp9ytfaZ_N6P",
    "outputId": "29ee7921-52e2-48a6-dcd4-eb7e5fb192ba"
   },
   "outputs": [
    {
     "name": "stdout",
     "output_type": "stream",
     "text": [
      "--2018-10-20 02:47:20--  https://github.com/bckenstler/CLR/raw/master/clr_callback.py\n",
      "Resolving github.com (github.com)... 192.30.253.113, 192.30.253.112\n",
      "Connecting to github.com (github.com)|192.30.253.113|:443... connected.\n",
      "HTTP request sent, awaiting response... 302 Found\n",
      "Location: https://raw.githubusercontent.com/bckenstler/CLR/master/clr_callback.py [following]\n",
      "--2018-10-20 02:47:20--  https://raw.githubusercontent.com/bckenstler/CLR/master/clr_callback.py\n",
      "Resolving raw.githubusercontent.com (raw.githubusercontent.com)... 151.101.0.133, 151.101.64.133, 151.101.128.133, ...\n",
      "Connecting to raw.githubusercontent.com (raw.githubusercontent.com)|151.101.0.133|:443... connected.\n",
      "HTTP request sent, awaiting response... 200 OK\n",
      "Length: 5326 (5.2K) [text/plain]\n",
      "Saving to: ‘clr_callback.py’\n",
      "\n",
      "\r",
      "clr_callback.py       0%[                    ]       0  --.-KB/s               \r",
      "clr_callback.py     100%[===================>]   5.20K  --.-KB/s    in 0s      \n",
      "\n",
      "2018-10-20 02:47:21 (40.4 MB/s) - ‘clr_callback.py’ saved [5326/5326]\n",
      "\n"
     ]
    }
   ],
   "source": [
    "!rm -rf clr_callback.py*\n",
    "!wget https://github.com/bckenstler/CLR/raw/master/clr_callback.py\n",
    "from clr_callback import *"
   ]
  },
  {
   "cell_type": "markdown",
   "metadata": {},
   "source": [
    "## Download LR Finder package "
   ]
  },
  {
   "cell_type": "code",
   "execution_count": 4,
   "metadata": {
    "colab": {
     "base_uri": "https://localhost:8080/",
     "height": 301
    },
    "colab_type": "code",
    "id": "Mp9ytfaZ_N6P",
    "outputId": "b31a7592-707c-43da-d11b-62c99776aca7"
   },
   "outputs": [
    {
     "name": "stdout",
     "output_type": "stream",
     "text": [
      "--2018-10-25 14:01:57--  https://gist.github.com/jeremyjordan/ac0229abd4b2b7000aca1643e88e0f02/raw/3b780822389cb4d96c50e83b59b8a506120fb044/lr_finder.py\n",
      "Resolving gist.github.com (gist.github.com)... 192.30.253.118, 192.30.253.119\n",
      "Connecting to gist.github.com (gist.github.com)|192.30.253.118|:443... connected.\n",
      "HTTP request sent, awaiting response... 301 Moved Permanently\n",
      "Location: https://gist.githubusercontent.com/jeremyjordan/ac0229abd4b2b7000aca1643e88e0f02/raw/3b780822389cb4d96c50e83b59b8a506120fb044/lr_finder.py [following]\n",
      "--2018-10-25 14:01:58--  https://gist.githubusercontent.com/jeremyjordan/ac0229abd4b2b7000aca1643e88e0f02/raw/3b780822389cb4d96c50e83b59b8a506120fb044/lr_finder.py\n",
      "Resolving gist.githubusercontent.com (gist.githubusercontent.com)... 151.101.0.133, 151.101.64.133, 151.101.128.133, ...\n",
      "Connecting to gist.githubusercontent.com (gist.githubusercontent.com)|151.101.0.133|:443... connected.\n",
      "HTTP request sent, awaiting response... 200 OK\n",
      "Length: 2847 (2.8K) [text/plain]\n",
      "Saving to: ‘lr_finder.py’\n",
      "\n",
      "\r",
      "lr_finder.py          0%[                    ]       0  --.-KB/s               \r",
      "lr_finder.py        100%[===================>]   2.78K  --.-KB/s    in 0s      \n",
      "\n",
      "2018-10-25 14:01:58 (46.9 MB/s) - ‘lr_finder.py’ saved [2847/2847]\n",
      "\n"
     ]
    }
   ],
   "source": [
    "!rm -rf /content/lr_finder.py*\n",
    "!wget https://gist.github.com/jeremyjordan/ac0229abd4b2b7000aca1643e88e0f02/raw/3b780822389cb4d96c50e83b59b8a506120fb044/lr_finder.py\n",
    "!sed -i '1s/^/from keras import backend as K\\n/' lr_finder.py\n",
    "from lr_finder import *"
   ]
  },
  {
   "cell_type": "markdown",
   "metadata": {},
   "source": [
    "## Plotting Functions"
   ]
  },
  {
   "cell_type": "code",
   "execution_count": 0,
   "metadata": {
    "colab": {},
    "colab_type": "code",
    "id": "ngfZDqIn169P"
   },
   "outputs": [],
   "source": [
    "def plot_model_history(model_history):\n",
    "    fig, axs = plt.subplots(1,2,figsize=(15,5))\n",
    "    # summarize history for accuracy\n",
    "    axs[0].plot(range(1,len(model_history.history['acc'])+1),model_history.history['acc'])\n",
    "    axs[0].plot(range(1,len(model_history.history['val_acc'])+1),model_history.history['val_acc'])\n",
    "    axs[0].set_title('Model Accuracy')\n",
    "    axs[0].set_ylabel('Accuracy')\n",
    "    axs[0].set_xlabel('Epoch')\n",
    "    axs[0].set_xticks(np.arange(1,len(model_history.history['acc'])+1),len(model_history.history['acc'])/10)\n",
    "    axs[0].legend(['train', 'val'], loc='best')\n",
    "    # summarize history for loss\n",
    "    axs[1].plot(range(1,len(model_history.history['loss'])+1),model_history.history['loss'])\n",
    "    axs[1].plot(range(1,len(model_history.history['val_loss'])+1),model_history.history['val_loss'])\n",
    "    axs[1].set_title('Model Loss')\n",
    "    axs[1].set_ylabel('Loss')\n",
    "    axs[1].set_xlabel('Epoch')\n",
    "    axs[1].set_xticks(np.arange(1,len(model_history.history['loss'])+1),len(model_history.history['loss'])/10)\n",
    "    axs[1].legend(['train', 'val'], loc='best')\n",
    "    plt.show()"
   ]
  },
  {
   "cell_type": "code",
   "execution_count": 0,
   "metadata": {
    "colab": {},
    "colab_type": "code",
    "id": "3UF_GpLv18dK"
   },
   "outputs": [],
   "source": [
    "def accuracy(test_x, test_y, model):\n",
    "    result = model.predict(test_x)\n",
    "    predicted_class = np.argmax(result, axis=1)\n",
    "    true_class = np.argmax(test_y, axis=1)\n",
    "    num_correct = np.sum(predicted_class == true_class) \n",
    "    accuracy = float(num_correct)/result.shape[0]\n",
    "    return (accuracy * 100)"
   ]
  },
  {
   "cell_type": "markdown",
   "metadata": {},
   "source": [
    "## Hyperparameters"
   ]
  },
  {
   "cell_type": "code",
   "execution_count": 0,
   "metadata": {
    "colab": {},
    "colab_type": "code",
    "id": "dsO_yGxcg5D8"
   },
   "outputs": [],
   "source": [
    "# Hyperparameters\n",
    "batch_size = 64\n",
    "num_classes = 10\n",
    "epochs = 50\n",
    "l = 12\n",
    "nb_filter = 24\n",
    "compression = 0.9\n",
    "dropout_rate = 0.2\n",
    "growth_rate = 12"
   ]
  },
  {
   "cell_type": "markdown",
   "metadata": {},
   "source": [
    "## LR Schedule Function"
   ]
  },
  {
   "cell_type": "code",
   "execution_count": 0,
   "metadata": {
    "colab": {},
    "colab_type": "code",
    "id": "Md0-RFxigndF"
   },
   "outputs": [],
   "source": [
    "def lr_schedule(epoch):\n",
    "    #lrate = 0.001\n",
    "    lrate = 0.01\n",
    "    if epoch > 75:\n",
    "        #lrate = 0.0005\n",
    "        lrate = 0.001\n",
    "    elif epoch > 150:\n",
    "        #lrate = 0.0003\n",
    "        lrate = 0.0001\n",
    "    return lrate"
   ]
  },
  {
   "cell_type": "markdown",
   "metadata": {},
   "source": [
    "## LR Step Decay function"
   ]
  },
  {
   "cell_type": "code",
   "execution_count": 0,
   "metadata": {
    "colab": {},
    "colab_type": "code",
    "id": "IqCYykoAaeSE"
   },
   "outputs": [],
   "source": [
    "# learning rate schedule\n",
    "def step_decay(epoch):\n",
    "\tinitial_lrate = 0.1\n",
    "\tdrop = 0.5\n",
    "\tepochs_drop = 20.0\n",
    "\tlrate = initial_lrate * math.pow(drop, math.floor((1+epoch)/epochs_drop))\n",
    "\treturn lrate"
   ]
  },
  {
   "cell_type": "markdown",
   "metadata": {},
   "source": [
    "## Load and Normalize Data"
   ]
  },
  {
   "cell_type": "code",
   "execution_count": 10,
   "metadata": {
    "colab": {
     "base_uri": "https://localhost:8080/",
     "height": 52
    },
    "colab_type": "code",
    "executionInfo": {
     "elapsed": 21721,
     "status": "ok",
     "timestamp": 1540003993470,
     "user": {
      "displayName": "Nikhil Utane",
      "photoUrl": "",
      "userId": "17106433286041284792"
     },
     "user_tz": -330
    },
    "id": "mB7o3zu1g6eT",
    "outputId": "c78aefa9-c5b8-49e1-fea6-bbb9a82ecc4a"
   },
   "outputs": [
    {
     "name": "stdout",
     "output_type": "stream",
     "text": [
      "Downloading data from https://www.cs.toronto.edu/~kriz/cifar-10-python.tar.gz\n",
      "170500096/170498071 [==============================] - 16s 0us/step\n"
     ]
    }
   ],
   "source": [
    "# Load CIFAR10 Data\n",
    "(x_train, y_train), (x_test, y_test) = cifar10.load_data()\n",
    "img_height, img_width, channel = x_train.shape[1],x_train.shape[2],x_train.shape[3]\n",
    "\n",
    "# convert to one hot encoding \n",
    "y_train = keras.utils.to_categorical(y_train, num_classes)\n",
    "y_test = keras.utils.to_categorical(y_test, num_classes)\n",
    "\n",
    "x_train = x_train.astype('float32')\n",
    "x_test = x_test.astype('float32')\n",
    "x_train /= 255.0\n",
    "x_test /= 255.0"
   ]
  },
  {
   "cell_type": "markdown",
   "metadata": {},
   "source": [
    "## Define Densenet Model functions"
   ]
  },
  {
   "cell_type": "code",
   "execution_count": 0,
   "metadata": {
    "colab": {},
    "colab_type": "code",
    "id": "ee-sge5Kg7vr"
   },
   "outputs": [],
   "source": [
    "# Dense Block\n",
    "def add_denseblock(input, num_filter = 12, dropout_rate = 0.2):\n",
    "    global compression, growth_rate, nb_filter\n",
    "    temp = input\n",
    "    for _ in range(l):\n",
    "        BatchNorm = BatchNormalization()(temp)\n",
    "        relu = Activation('relu')(BatchNorm)\n",
    "        Conv2D_3_3 = Conv2D(growth_rate, (3,3), use_bias=False ,padding='same')(relu)\n",
    "        if dropout_rate>0:\n",
    "          Conv2D_3_3 = Dropout(dropout_rate)(Conv2D_3_3)\n",
    "        concat = Concatenate(axis=-1)([temp,Conv2D_3_3])\n",
    "        nb_filter += growth_rate\n",
    "        temp = concat\n",
    "        \n",
    "    return temp"
   ]
  },
  {
   "cell_type": "code",
   "execution_count": 0,
   "metadata": {
    "colab": {},
    "colab_type": "code",
    "id": "OOP6IPsGhBwb"
   },
   "outputs": [],
   "source": [
    "def add_transition(input, num_filter = 12, dropout_rate = 0.2):\n",
    "    global compression\n",
    "    BatchNorm = BatchNormalization()(input)\n",
    "    relu = Activation('relu')(BatchNorm)\n",
    "    Conv2D_BottleNeck = Conv2D(int(num_filter * compression), (1,1), use_bias=False ,padding='same')(relu)\n",
    "    if dropout_rate>0:\n",
    "      Conv2D_BottleNeck = Dropout(dropout_rate)(Conv2D_BottleNeck)\n",
    "    avg = AveragePooling2D(pool_size=(2,2))(Conv2D_BottleNeck)\n",
    "    \n",
    "    return avg"
   ]
  },
  {
   "cell_type": "code",
   "execution_count": 0,
   "metadata": {
    "colab": {},
    "colab_type": "code",
    "id": "0RaKFpubhDIC"
   },
   "outputs": [],
   "source": [
    "def output_layer(input):\n",
    "    BatchNorm = BatchNormalization()(input)\n",
    "    relu = Activation('relu')(BatchNorm)\n",
    "    #AvgPooling = AveragePooling2D(pool_size=(2,2))(relu)\n",
    "    GlobalAvg = GlobalAveragePooling2D()(relu)\n",
    "    #flat = Flatten()(AvgPooling)\n",
    "    output = Dense(num_classes, activation='softmax')(GlobalAvg)\n",
    "    \n",
    "    return output"
   ]
  },
  {
   "cell_type": "markdown",
   "metadata": {},
   "source": [
    "## Create Densenet Model"
   ]
  },
  {
   "cell_type": "code",
   "execution_count": null,
   "metadata": {
    "colab": {},
    "colab_type": "code",
    "id": "anPCpQWhhGb7"
   },
   "outputs": [],
   "source": [
    "#num_filter = 24\n",
    "#dropout_rate = 0.2\n",
    "#l = 12\n",
    "input = Input(shape=(img_height, img_width, channel,))\n",
    "First_Conv2D = Conv2D(nb_filter, (3,3), use_bias=False ,padding='same')(input)\n",
    "\n",
    "First_Block = add_denseblock(First_Conv2D, nb_filter, dropout_rate)\n",
    "First_Transition = add_transition(First_Block, nb_filter, dropout_rate)\n",
    "\n",
    "Second_Block = add_denseblock(First_Transition, nb_filter, dropout_rate)\n",
    "Second_Transition = add_transition(Second_Block, nb_filter, dropout_rate)\n",
    "\n",
    "Third_Block = add_denseblock(Second_Transition, nb_filter, dropout_rate)\n",
    "#Third_Transition = add_transition(Third_Block, num_filter, dropout_rate)\n",
    "\n",
    "output = output_layer(Third_Block)\n"
   ]
  },
  {
   "cell_type": "code",
   "execution_count": 15,
   "metadata": {
    "colab": {
     "base_uri": "https://localhost:8080/",
     "height": 7750
    },
    "colab_type": "code",
    "executionInfo": {
     "elapsed": 1431,
     "status": "ok",
     "timestamp": 1540004007607,
     "user": {
      "displayName": "Nikhil Utane",
      "photoUrl": "",
      "userId": "17106433286041284792"
     },
     "user_tz": -330
    },
    "id": "1kFh7pdxhNtT",
    "outputId": "2ffe734d-e0ac-4b3a-fc0f-123fd80bff75"
   },
   "outputs": [
    {
     "name": "stdout",
     "output_type": "stream",
     "text": [
      "__________________________________________________________________________________________________\n",
      "Layer (type)                    Output Shape         Param #     Connected to                     \n",
      "==================================================================================================\n",
      "input_1 (InputLayer)            (None, 32, 32, 3)    0                                            \n",
      "__________________________________________________________________________________________________\n",
      "conv2d_1 (Conv2D)               (None, 32, 32, 24)   648         input_1[0][0]                    \n",
      "__________________________________________________________________________________________________\n",
      "batch_normalization_1 (BatchNor (None, 32, 32, 24)   96          conv2d_1[0][0]                   \n",
      "__________________________________________________________________________________________________\n",
      "activation_1 (Activation)       (None, 32, 32, 24)   0           batch_normalization_1[0][0]      \n",
      "__________________________________________________________________________________________________\n",
      "conv2d_2 (Conv2D)               (None, 32, 32, 12)   2592        activation_1[0][0]               \n",
      "__________________________________________________________________________________________________\n",
      "dropout_1 (Dropout)             (None, 32, 32, 12)   0           conv2d_2[0][0]                   \n",
      "__________________________________________________________________________________________________\n",
      "concatenate_1 (Concatenate)     (None, 32, 32, 36)   0           conv2d_1[0][0]                   \n",
      "                                                                 dropout_1[0][0]                  \n",
      "__________________________________________________________________________________________________\n",
      "batch_normalization_2 (BatchNor (None, 32, 32, 36)   144         concatenate_1[0][0]              \n",
      "__________________________________________________________________________________________________\n",
      "activation_2 (Activation)       (None, 32, 32, 36)   0           batch_normalization_2[0][0]      \n",
      "__________________________________________________________________________________________________\n",
      "conv2d_3 (Conv2D)               (None, 32, 32, 12)   3888        activation_2[0][0]               \n",
      "__________________________________________________________________________________________________\n",
      "dropout_2 (Dropout)             (None, 32, 32, 12)   0           conv2d_3[0][0]                   \n",
      "__________________________________________________________________________________________________\n",
      "concatenate_2 (Concatenate)     (None, 32, 32, 48)   0           concatenate_1[0][0]              \n",
      "                                                                 dropout_2[0][0]                  \n",
      "__________________________________________________________________________________________________\n",
      "batch_normalization_3 (BatchNor (None, 32, 32, 48)   192         concatenate_2[0][0]              \n",
      "__________________________________________________________________________________________________\n",
      "activation_3 (Activation)       (None, 32, 32, 48)   0           batch_normalization_3[0][0]      \n",
      "__________________________________________________________________________________________________\n",
      "conv2d_4 (Conv2D)               (None, 32, 32, 12)   5184        activation_3[0][0]               \n",
      "__________________________________________________________________________________________________\n",
      "dropout_3 (Dropout)             (None, 32, 32, 12)   0           conv2d_4[0][0]                   \n",
      "__________________________________________________________________________________________________\n",
      "concatenate_3 (Concatenate)     (None, 32, 32, 60)   0           concatenate_2[0][0]              \n",
      "                                                                 dropout_3[0][0]                  \n",
      "__________________________________________________________________________________________________\n",
      "batch_normalization_4 (BatchNor (None, 32, 32, 60)   240         concatenate_3[0][0]              \n",
      "__________________________________________________________________________________________________\n",
      "activation_4 (Activation)       (None, 32, 32, 60)   0           batch_normalization_4[0][0]      \n",
      "__________________________________________________________________________________________________\n",
      "conv2d_5 (Conv2D)               (None, 32, 32, 12)   6480        activation_4[0][0]               \n",
      "__________________________________________________________________________________________________\n",
      "dropout_4 (Dropout)             (None, 32, 32, 12)   0           conv2d_5[0][0]                   \n",
      "__________________________________________________________________________________________________\n",
      "concatenate_4 (Concatenate)     (None, 32, 32, 72)   0           concatenate_3[0][0]              \n",
      "                                                                 dropout_4[0][0]                  \n",
      "__________________________________________________________________________________________________\n",
      "batch_normalization_5 (BatchNor (None, 32, 32, 72)   288         concatenate_4[0][0]              \n",
      "__________________________________________________________________________________________________\n",
      "activation_5 (Activation)       (None, 32, 32, 72)   0           batch_normalization_5[0][0]      \n",
      "__________________________________________________________________________________________________\n",
      "conv2d_6 (Conv2D)               (None, 32, 32, 12)   7776        activation_5[0][0]               \n",
      "__________________________________________________________________________________________________\n",
      "dropout_5 (Dropout)             (None, 32, 32, 12)   0           conv2d_6[0][0]                   \n",
      "__________________________________________________________________________________________________\n",
      "concatenate_5 (Concatenate)     (None, 32, 32, 84)   0           concatenate_4[0][0]              \n",
      "                                                                 dropout_5[0][0]                  \n",
      "__________________________________________________________________________________________________\n",
      "batch_normalization_6 (BatchNor (None, 32, 32, 84)   336         concatenate_5[0][0]              \n",
      "__________________________________________________________________________________________________\n",
      "activation_6 (Activation)       (None, 32, 32, 84)   0           batch_normalization_6[0][0]      \n",
      "__________________________________________________________________________________________________\n",
      "conv2d_7 (Conv2D)               (None, 32, 32, 12)   9072        activation_6[0][0]               \n",
      "__________________________________________________________________________________________________\n",
      "dropout_6 (Dropout)             (None, 32, 32, 12)   0           conv2d_7[0][0]                   \n",
      "__________________________________________________________________________________________________\n",
      "concatenate_6 (Concatenate)     (None, 32, 32, 96)   0           concatenate_5[0][0]              \n",
      "                                                                 dropout_6[0][0]                  \n",
      "__________________________________________________________________________________________________\n",
      "batch_normalization_7 (BatchNor (None, 32, 32, 96)   384         concatenate_6[0][0]              \n",
      "__________________________________________________________________________________________________\n",
      "activation_7 (Activation)       (None, 32, 32, 96)   0           batch_normalization_7[0][0]      \n",
      "__________________________________________________________________________________________________\n",
      "conv2d_8 (Conv2D)               (None, 32, 32, 12)   10368       activation_7[0][0]               \n",
      "__________________________________________________________________________________________________\n",
      "dropout_7 (Dropout)             (None, 32, 32, 12)   0           conv2d_8[0][0]                   \n",
      "__________________________________________________________________________________________________\n",
      "concatenate_7 (Concatenate)     (None, 32, 32, 108)  0           concatenate_6[0][0]              \n",
      "                                                                 dropout_7[0][0]                  \n",
      "__________________________________________________________________________________________________\n",
      "batch_normalization_8 (BatchNor (None, 32, 32, 108)  432         concatenate_7[0][0]              \n",
      "__________________________________________________________________________________________________\n",
      "activation_8 (Activation)       (None, 32, 32, 108)  0           batch_normalization_8[0][0]      \n",
      "__________________________________________________________________________________________________\n",
      "conv2d_9 (Conv2D)               (None, 32, 32, 12)   11664       activation_8[0][0]               \n",
      "__________________________________________________________________________________________________\n",
      "dropout_8 (Dropout)             (None, 32, 32, 12)   0           conv2d_9[0][0]                   \n",
      "__________________________________________________________________________________________________\n",
      "concatenate_8 (Concatenate)     (None, 32, 32, 120)  0           concatenate_7[0][0]              \n",
      "                                                                 dropout_8[0][0]                  \n",
      "__________________________________________________________________________________________________\n",
      "batch_normalization_9 (BatchNor (None, 32, 32, 120)  480         concatenate_8[0][0]              \n",
      "__________________________________________________________________________________________________\n",
      "activation_9 (Activation)       (None, 32, 32, 120)  0           batch_normalization_9[0][0]      \n",
      "__________________________________________________________________________________________________\n",
      "conv2d_10 (Conv2D)              (None, 32, 32, 12)   12960       activation_9[0][0]               \n",
      "__________________________________________________________________________________________________\n",
      "dropout_9 (Dropout)             (None, 32, 32, 12)   0           conv2d_10[0][0]                  \n",
      "__________________________________________________________________________________________________\n",
      "concatenate_9 (Concatenate)     (None, 32, 32, 132)  0           concatenate_8[0][0]              \n",
      "                                                                 dropout_9[0][0]                  \n",
      "__________________________________________________________________________________________________\n",
      "batch_normalization_10 (BatchNo (None, 32, 32, 132)  528         concatenate_9[0][0]              \n",
      "__________________________________________________________________________________________________\n",
      "activation_10 (Activation)      (None, 32, 32, 132)  0           batch_normalization_10[0][0]     \n",
      "__________________________________________________________________________________________________\n",
      "conv2d_11 (Conv2D)              (None, 32, 32, 12)   14256       activation_10[0][0]              \n",
      "__________________________________________________________________________________________________\n",
      "dropout_10 (Dropout)            (None, 32, 32, 12)   0           conv2d_11[0][0]                  \n",
      "__________________________________________________________________________________________________\n",
      "concatenate_10 (Concatenate)    (None, 32, 32, 144)  0           concatenate_9[0][0]              \n",
      "                                                                 dropout_10[0][0]                 \n",
      "__________________________________________________________________________________________________\n",
      "batch_normalization_11 (BatchNo (None, 32, 32, 144)  576         concatenate_10[0][0]             \n",
      "__________________________________________________________________________________________________\n",
      "activation_11 (Activation)      (None, 32, 32, 144)  0           batch_normalization_11[0][0]     \n",
      "__________________________________________________________________________________________________\n",
      "conv2d_12 (Conv2D)              (None, 32, 32, 12)   15552       activation_11[0][0]              \n",
      "__________________________________________________________________________________________________\n",
      "dropout_11 (Dropout)            (None, 32, 32, 12)   0           conv2d_12[0][0]                  \n",
      "__________________________________________________________________________________________________\n",
      "concatenate_11 (Concatenate)    (None, 32, 32, 156)  0           concatenate_10[0][0]             \n",
      "                                                                 dropout_11[0][0]                 \n",
      "__________________________________________________________________________________________________\n",
      "batch_normalization_12 (BatchNo (None, 32, 32, 156)  624         concatenate_11[0][0]             \n",
      "__________________________________________________________________________________________________\n",
      "activation_12 (Activation)      (None, 32, 32, 156)  0           batch_normalization_12[0][0]     \n",
      "__________________________________________________________________________________________________\n",
      "conv2d_13 (Conv2D)              (None, 32, 32, 12)   16848       activation_12[0][0]              \n",
      "__________________________________________________________________________________________________\n",
      "dropout_12 (Dropout)            (None, 32, 32, 12)   0           conv2d_13[0][0]                  \n",
      "__________________________________________________________________________________________________\n",
      "concatenate_12 (Concatenate)    (None, 32, 32, 168)  0           concatenate_11[0][0]             \n",
      "                                                                 dropout_12[0][0]                 \n",
      "__________________________________________________________________________________________________\n",
      "batch_normalization_13 (BatchNo (None, 32, 32, 168)  672         concatenate_12[0][0]             \n",
      "__________________________________________________________________________________________________\n",
      "activation_13 (Activation)      (None, 32, 32, 168)  0           batch_normalization_13[0][0]     \n",
      "__________________________________________________________________________________________________\n",
      "conv2d_14 (Conv2D)              (None, 32, 32, 151)  25368       activation_13[0][0]              \n",
      "__________________________________________________________________________________________________\n",
      "dropout_13 (Dropout)            (None, 32, 32, 151)  0           conv2d_14[0][0]                  \n",
      "__________________________________________________________________________________________________\n",
      "average_pooling2d_1 (AveragePoo (None, 16, 16, 151)  0           dropout_13[0][0]                 \n",
      "__________________________________________________________________________________________________\n",
      "batch_normalization_14 (BatchNo (None, 16, 16, 151)  604         average_pooling2d_1[0][0]        \n",
      "__________________________________________________________________________________________________\n",
      "activation_14 (Activation)      (None, 16, 16, 151)  0           batch_normalization_14[0][0]     \n",
      "__________________________________________________________________________________________________\n",
      "conv2d_15 (Conv2D)              (None, 16, 16, 12)   16308       activation_14[0][0]              \n",
      "__________________________________________________________________________________________________\n",
      "dropout_14 (Dropout)            (None, 16, 16, 12)   0           conv2d_15[0][0]                  \n",
      "__________________________________________________________________________________________________\n",
      "concatenate_13 (Concatenate)    (None, 16, 16, 163)  0           average_pooling2d_1[0][0]        \n",
      "                                                                 dropout_14[0][0]                 \n",
      "__________________________________________________________________________________________________\n",
      "batch_normalization_15 (BatchNo (None, 16, 16, 163)  652         concatenate_13[0][0]             \n",
      "__________________________________________________________________________________________________\n",
      "activation_15 (Activation)      (None, 16, 16, 163)  0           batch_normalization_15[0][0]     \n",
      "__________________________________________________________________________________________________\n",
      "conv2d_16 (Conv2D)              (None, 16, 16, 12)   17604       activation_15[0][0]              \n",
      "__________________________________________________________________________________________________\n",
      "dropout_15 (Dropout)            (None, 16, 16, 12)   0           conv2d_16[0][0]                  \n",
      "__________________________________________________________________________________________________\n",
      "concatenate_14 (Concatenate)    (None, 16, 16, 175)  0           concatenate_13[0][0]             \n",
      "                                                                 dropout_15[0][0]                 \n",
      "__________________________________________________________________________________________________\n",
      "batch_normalization_16 (BatchNo (None, 16, 16, 175)  700         concatenate_14[0][0]             \n",
      "__________________________________________________________________________________________________\n",
      "activation_16 (Activation)      (None, 16, 16, 175)  0           batch_normalization_16[0][0]     \n",
      "__________________________________________________________________________________________________\n",
      "conv2d_17 (Conv2D)              (None, 16, 16, 12)   18900       activation_16[0][0]              \n",
      "__________________________________________________________________________________________________\n",
      "dropout_16 (Dropout)            (None, 16, 16, 12)   0           conv2d_17[0][0]                  \n",
      "__________________________________________________________________________________________________\n",
      "concatenate_15 (Concatenate)    (None, 16, 16, 187)  0           concatenate_14[0][0]             \n",
      "                                                                 dropout_16[0][0]                 \n",
      "__________________________________________________________________________________________________\n",
      "batch_normalization_17 (BatchNo (None, 16, 16, 187)  748         concatenate_15[0][0]             \n",
      "__________________________________________________________________________________________________\n",
      "activation_17 (Activation)      (None, 16, 16, 187)  0           batch_normalization_17[0][0]     \n",
      "__________________________________________________________________________________________________\n",
      "conv2d_18 (Conv2D)              (None, 16, 16, 12)   20196       activation_17[0][0]              \n",
      "__________________________________________________________________________________________________\n",
      "dropout_17 (Dropout)            (None, 16, 16, 12)   0           conv2d_18[0][0]                  \n",
      "__________________________________________________________________________________________________\n",
      "concatenate_16 (Concatenate)    (None, 16, 16, 199)  0           concatenate_15[0][0]             \n",
      "                                                                 dropout_17[0][0]                 \n",
      "__________________________________________________________________________________________________\n",
      "batch_normalization_18 (BatchNo (None, 16, 16, 199)  796         concatenate_16[0][0]             \n",
      "__________________________________________________________________________________________________\n",
      "activation_18 (Activation)      (None, 16, 16, 199)  0           batch_normalization_18[0][0]     \n",
      "__________________________________________________________________________________________________\n",
      "conv2d_19 (Conv2D)              (None, 16, 16, 12)   21492       activation_18[0][0]              \n",
      "__________________________________________________________________________________________________\n",
      "dropout_18 (Dropout)            (None, 16, 16, 12)   0           conv2d_19[0][0]                  \n",
      "__________________________________________________________________________________________________\n",
      "concatenate_17 (Concatenate)    (None, 16, 16, 211)  0           concatenate_16[0][0]             \n",
      "                                                                 dropout_18[0][0]                 \n",
      "__________________________________________________________________________________________________\n",
      "batch_normalization_19 (BatchNo (None, 16, 16, 211)  844         concatenate_17[0][0]             \n",
      "__________________________________________________________________________________________________\n",
      "activation_19 (Activation)      (None, 16, 16, 211)  0           batch_normalization_19[0][0]     \n",
      "__________________________________________________________________________________________________\n",
      "conv2d_20 (Conv2D)              (None, 16, 16, 12)   22788       activation_19[0][0]              \n",
      "__________________________________________________________________________________________________\n",
      "dropout_19 (Dropout)            (None, 16, 16, 12)   0           conv2d_20[0][0]                  \n",
      "__________________________________________________________________________________________________\n",
      "concatenate_18 (Concatenate)    (None, 16, 16, 223)  0           concatenate_17[0][0]             \n",
      "                                                                 dropout_19[0][0]                 \n",
      "__________________________________________________________________________________________________\n",
      "batch_normalization_20 (BatchNo (None, 16, 16, 223)  892         concatenate_18[0][0]             \n",
      "__________________________________________________________________________________________________\n",
      "activation_20 (Activation)      (None, 16, 16, 223)  0           batch_normalization_20[0][0]     \n",
      "__________________________________________________________________________________________________\n",
      "conv2d_21 (Conv2D)              (None, 16, 16, 12)   24084       activation_20[0][0]              \n",
      "__________________________________________________________________________________________________\n",
      "dropout_20 (Dropout)            (None, 16, 16, 12)   0           conv2d_21[0][0]                  \n",
      "__________________________________________________________________________________________________\n",
      "concatenate_19 (Concatenate)    (None, 16, 16, 235)  0           concatenate_18[0][0]             \n",
      "                                                                 dropout_20[0][0]                 \n",
      "__________________________________________________________________________________________________\n",
      "batch_normalization_21 (BatchNo (None, 16, 16, 235)  940         concatenate_19[0][0]             \n",
      "__________________________________________________________________________________________________\n",
      "activation_21 (Activation)      (None, 16, 16, 235)  0           batch_normalization_21[0][0]     \n",
      "__________________________________________________________________________________________________\n",
      "conv2d_22 (Conv2D)              (None, 16, 16, 12)   25380       activation_21[0][0]              \n",
      "__________________________________________________________________________________________________\n",
      "dropout_21 (Dropout)            (None, 16, 16, 12)   0           conv2d_22[0][0]                  \n",
      "__________________________________________________________________________________________________\n",
      "concatenate_20 (Concatenate)    (None, 16, 16, 247)  0           concatenate_19[0][0]             \n",
      "                                                                 dropout_21[0][0]                 \n",
      "__________________________________________________________________________________________________\n",
      "batch_normalization_22 (BatchNo (None, 16, 16, 247)  988         concatenate_20[0][0]             \n",
      "__________________________________________________________________________________________________\n",
      "activation_22 (Activation)      (None, 16, 16, 247)  0           batch_normalization_22[0][0]     \n",
      "__________________________________________________________________________________________________\n",
      "conv2d_23 (Conv2D)              (None, 16, 16, 12)   26676       activation_22[0][0]              \n",
      "__________________________________________________________________________________________________\n",
      "dropout_22 (Dropout)            (None, 16, 16, 12)   0           conv2d_23[0][0]                  \n",
      "__________________________________________________________________________________________________\n",
      "concatenate_21 (Concatenate)    (None, 16, 16, 259)  0           concatenate_20[0][0]             \n",
      "                                                                 dropout_22[0][0]                 \n",
      "__________________________________________________________________________________________________\n",
      "batch_normalization_23 (BatchNo (None, 16, 16, 259)  1036        concatenate_21[0][0]             \n",
      "__________________________________________________________________________________________________\n",
      "activation_23 (Activation)      (None, 16, 16, 259)  0           batch_normalization_23[0][0]     \n",
      "__________________________________________________________________________________________________\n",
      "conv2d_24 (Conv2D)              (None, 16, 16, 12)   27972       activation_23[0][0]              \n",
      "__________________________________________________________________________________________________\n",
      "dropout_23 (Dropout)            (None, 16, 16, 12)   0           conv2d_24[0][0]                  \n",
      "__________________________________________________________________________________________________\n",
      "concatenate_22 (Concatenate)    (None, 16, 16, 271)  0           concatenate_21[0][0]             \n",
      "                                                                 dropout_23[0][0]                 \n",
      "__________________________________________________________________________________________________\n",
      "batch_normalization_24 (BatchNo (None, 16, 16, 271)  1084        concatenate_22[0][0]             \n",
      "__________________________________________________________________________________________________\n",
      "activation_24 (Activation)      (None, 16, 16, 271)  0           batch_normalization_24[0][0]     \n",
      "__________________________________________________________________________________________________\n",
      "conv2d_25 (Conv2D)              (None, 16, 16, 12)   29268       activation_24[0][0]              \n",
      "__________________________________________________________________________________________________\n",
      "dropout_24 (Dropout)            (None, 16, 16, 12)   0           conv2d_25[0][0]                  \n",
      "__________________________________________________________________________________________________\n",
      "concatenate_23 (Concatenate)    (None, 16, 16, 283)  0           concatenate_22[0][0]             \n",
      "                                                                 dropout_24[0][0]                 \n",
      "__________________________________________________________________________________________________\n",
      "batch_normalization_25 (BatchNo (None, 16, 16, 283)  1132        concatenate_23[0][0]             \n",
      "__________________________________________________________________________________________________\n",
      "activation_25 (Activation)      (None, 16, 16, 283)  0           batch_normalization_25[0][0]     \n",
      "__________________________________________________________________________________________________\n",
      "conv2d_26 (Conv2D)              (None, 16, 16, 12)   30564       activation_25[0][0]              \n",
      "__________________________________________________________________________________________________\n",
      "dropout_25 (Dropout)            (None, 16, 16, 12)   0           conv2d_26[0][0]                  \n",
      "__________________________________________________________________________________________________\n",
      "concatenate_24 (Concatenate)    (None, 16, 16, 295)  0           concatenate_23[0][0]             \n",
      "                                                                 dropout_25[0][0]                 \n",
      "__________________________________________________________________________________________________\n",
      "batch_normalization_26 (BatchNo (None, 16, 16, 295)  1180        concatenate_24[0][0]             \n",
      "__________________________________________________________________________________________________\n",
      "activation_26 (Activation)      (None, 16, 16, 295)  0           batch_normalization_26[0][0]     \n",
      "__________________________________________________________________________________________________\n",
      "conv2d_27 (Conv2D)              (None, 16, 16, 280)  82600       activation_26[0][0]              \n",
      "__________________________________________________________________________________________________\n",
      "dropout_26 (Dropout)            (None, 16, 16, 280)  0           conv2d_27[0][0]                  \n",
      "__________________________________________________________________________________________________\n",
      "average_pooling2d_2 (AveragePoo (None, 8, 8, 280)    0           dropout_26[0][0]                 \n",
      "__________________________________________________________________________________________________\n",
      "batch_normalization_27 (BatchNo (None, 8, 8, 280)    1120        average_pooling2d_2[0][0]        \n",
      "__________________________________________________________________________________________________\n",
      "activation_27 (Activation)      (None, 8, 8, 280)    0           batch_normalization_27[0][0]     \n",
      "__________________________________________________________________________________________________\n",
      "conv2d_28 (Conv2D)              (None, 8, 8, 12)     30240       activation_27[0][0]              \n",
      "__________________________________________________________________________________________________\n",
      "dropout_27 (Dropout)            (None, 8, 8, 12)     0           conv2d_28[0][0]                  \n",
      "__________________________________________________________________________________________________\n",
      "concatenate_25 (Concatenate)    (None, 8, 8, 292)    0           average_pooling2d_2[0][0]        \n",
      "                                                                 dropout_27[0][0]                 \n",
      "__________________________________________________________________________________________________\n",
      "batch_normalization_28 (BatchNo (None, 8, 8, 292)    1168        concatenate_25[0][0]             \n",
      "__________________________________________________________________________________________________\n",
      "activation_28 (Activation)      (None, 8, 8, 292)    0           batch_normalization_28[0][0]     \n",
      "__________________________________________________________________________________________________\n",
      "conv2d_29 (Conv2D)              (None, 8, 8, 12)     31536       activation_28[0][0]              \n",
      "__________________________________________________________________________________________________\n",
      "dropout_28 (Dropout)            (None, 8, 8, 12)     0           conv2d_29[0][0]                  \n",
      "__________________________________________________________________________________________________\n",
      "concatenate_26 (Concatenate)    (None, 8, 8, 304)    0           concatenate_25[0][0]             \n",
      "                                                                 dropout_28[0][0]                 \n",
      "__________________________________________________________________________________________________\n",
      "batch_normalization_29 (BatchNo (None, 8, 8, 304)    1216        concatenate_26[0][0]             \n",
      "__________________________________________________________________________________________________\n",
      "activation_29 (Activation)      (None, 8, 8, 304)    0           batch_normalization_29[0][0]     \n",
      "__________________________________________________________________________________________________\n",
      "conv2d_30 (Conv2D)              (None, 8, 8, 12)     32832       activation_29[0][0]              \n",
      "__________________________________________________________________________________________________\n",
      "dropout_29 (Dropout)            (None, 8, 8, 12)     0           conv2d_30[0][0]                  \n",
      "__________________________________________________________________________________________________\n",
      "concatenate_27 (Concatenate)    (None, 8, 8, 316)    0           concatenate_26[0][0]             \n",
      "                                                                 dropout_29[0][0]                 \n",
      "__________________________________________________________________________________________________\n",
      "batch_normalization_30 (BatchNo (None, 8, 8, 316)    1264        concatenate_27[0][0]             \n",
      "__________________________________________________________________________________________________\n",
      "activation_30 (Activation)      (None, 8, 8, 316)    0           batch_normalization_30[0][0]     \n",
      "__________________________________________________________________________________________________\n",
      "conv2d_31 (Conv2D)              (None, 8, 8, 12)     34128       activation_30[0][0]              \n",
      "__________________________________________________________________________________________________\n",
      "dropout_30 (Dropout)            (None, 8, 8, 12)     0           conv2d_31[0][0]                  \n",
      "__________________________________________________________________________________________________\n",
      "concatenate_28 (Concatenate)    (None, 8, 8, 328)    0           concatenate_27[0][0]             \n",
      "                                                                 dropout_30[0][0]                 \n",
      "__________________________________________________________________________________________________\n",
      "batch_normalization_31 (BatchNo (None, 8, 8, 328)    1312        concatenate_28[0][0]             \n",
      "__________________________________________________________________________________________________\n",
      "activation_31 (Activation)      (None, 8, 8, 328)    0           batch_normalization_31[0][0]     \n",
      "__________________________________________________________________________________________________\n",
      "conv2d_32 (Conv2D)              (None, 8, 8, 12)     35424       activation_31[0][0]              \n",
      "__________________________________________________________________________________________________\n",
      "dropout_31 (Dropout)            (None, 8, 8, 12)     0           conv2d_32[0][0]                  \n",
      "__________________________________________________________________________________________________\n",
      "concatenate_29 (Concatenate)    (None, 8, 8, 340)    0           concatenate_28[0][0]             \n",
      "                                                                 dropout_31[0][0]                 \n",
      "__________________________________________________________________________________________________\n",
      "batch_normalization_32 (BatchNo (None, 8, 8, 340)    1360        concatenate_29[0][0]             \n",
      "__________________________________________________________________________________________________\n",
      "activation_32 (Activation)      (None, 8, 8, 340)    0           batch_normalization_32[0][0]     \n",
      "__________________________________________________________________________________________________\n",
      "conv2d_33 (Conv2D)              (None, 8, 8, 12)     36720       activation_32[0][0]              \n",
      "__________________________________________________________________________________________________\n",
      "dropout_32 (Dropout)            (None, 8, 8, 12)     0           conv2d_33[0][0]                  \n",
      "__________________________________________________________________________________________________\n",
      "concatenate_30 (Concatenate)    (None, 8, 8, 352)    0           concatenate_29[0][0]             \n",
      "                                                                 dropout_32[0][0]                 \n",
      "__________________________________________________________________________________________________\n",
      "batch_normalization_33 (BatchNo (None, 8, 8, 352)    1408        concatenate_30[0][0]             \n",
      "__________________________________________________________________________________________________\n",
      "activation_33 (Activation)      (None, 8, 8, 352)    0           batch_normalization_33[0][0]     \n",
      "__________________________________________________________________________________________________\n",
      "conv2d_34 (Conv2D)              (None, 8, 8, 12)     38016       activation_33[0][0]              \n",
      "__________________________________________________________________________________________________\n",
      "dropout_33 (Dropout)            (None, 8, 8, 12)     0           conv2d_34[0][0]                  \n",
      "__________________________________________________________________________________________________\n",
      "concatenate_31 (Concatenate)    (None, 8, 8, 364)    0           concatenate_30[0][0]             \n",
      "                                                                 dropout_33[0][0]                 \n",
      "__________________________________________________________________________________________________\n",
      "batch_normalization_34 (BatchNo (None, 8, 8, 364)    1456        concatenate_31[0][0]             \n",
      "__________________________________________________________________________________________________\n",
      "activation_34 (Activation)      (None, 8, 8, 364)    0           batch_normalization_34[0][0]     \n",
      "__________________________________________________________________________________________________\n",
      "conv2d_35 (Conv2D)              (None, 8, 8, 12)     39312       activation_34[0][0]              \n",
      "__________________________________________________________________________________________________\n",
      "dropout_34 (Dropout)            (None, 8, 8, 12)     0           conv2d_35[0][0]                  \n",
      "__________________________________________________________________________________________________\n",
      "concatenate_32 (Concatenate)    (None, 8, 8, 376)    0           concatenate_31[0][0]             \n",
      "                                                                 dropout_34[0][0]                 \n",
      "__________________________________________________________________________________________________\n",
      "batch_normalization_35 (BatchNo (None, 8, 8, 376)    1504        concatenate_32[0][0]             \n",
      "__________________________________________________________________________________________________\n",
      "activation_35 (Activation)      (None, 8, 8, 376)    0           batch_normalization_35[0][0]     \n",
      "__________________________________________________________________________________________________\n",
      "conv2d_36 (Conv2D)              (None, 8, 8, 12)     40608       activation_35[0][0]              \n",
      "__________________________________________________________________________________________________\n",
      "dropout_35 (Dropout)            (None, 8, 8, 12)     0           conv2d_36[0][0]                  \n",
      "__________________________________________________________________________________________________\n",
      "concatenate_33 (Concatenate)    (None, 8, 8, 388)    0           concatenate_32[0][0]             \n",
      "                                                                 dropout_35[0][0]                 \n",
      "__________________________________________________________________________________________________\n",
      "batch_normalization_36 (BatchNo (None, 8, 8, 388)    1552        concatenate_33[0][0]             \n",
      "__________________________________________________________________________________________________\n",
      "activation_36 (Activation)      (None, 8, 8, 388)    0           batch_normalization_36[0][0]     \n",
      "__________________________________________________________________________________________________\n",
      "conv2d_37 (Conv2D)              (None, 8, 8, 12)     41904       activation_36[0][0]              \n",
      "__________________________________________________________________________________________________\n",
      "dropout_36 (Dropout)            (None, 8, 8, 12)     0           conv2d_37[0][0]                  \n",
      "__________________________________________________________________________________________________\n",
      "concatenate_34 (Concatenate)    (None, 8, 8, 400)    0           concatenate_33[0][0]             \n",
      "                                                                 dropout_36[0][0]                 \n",
      "__________________________________________________________________________________________________\n",
      "batch_normalization_37 (BatchNo (None, 8, 8, 400)    1600        concatenate_34[0][0]             \n",
      "__________________________________________________________________________________________________\n",
      "activation_37 (Activation)      (None, 8, 8, 400)    0           batch_normalization_37[0][0]     \n",
      "__________________________________________________________________________________________________\n",
      "conv2d_38 (Conv2D)              (None, 8, 8, 12)     43200       activation_37[0][0]              \n",
      "__________________________________________________________________________________________________\n",
      "dropout_37 (Dropout)            (None, 8, 8, 12)     0           conv2d_38[0][0]                  \n",
      "__________________________________________________________________________________________________\n",
      "concatenate_35 (Concatenate)    (None, 8, 8, 412)    0           concatenate_34[0][0]             \n",
      "                                                                 dropout_37[0][0]                 \n",
      "__________________________________________________________________________________________________\n",
      "batch_normalization_38 (BatchNo (None, 8, 8, 412)    1648        concatenate_35[0][0]             \n",
      "__________________________________________________________________________________________________\n",
      "activation_38 (Activation)      (None, 8, 8, 412)    0           batch_normalization_38[0][0]     \n",
      "__________________________________________________________________________________________________\n",
      "conv2d_39 (Conv2D)              (None, 8, 8, 12)     44496       activation_38[0][0]              \n",
      "__________________________________________________________________________________________________\n",
      "dropout_38 (Dropout)            (None, 8, 8, 12)     0           conv2d_39[0][0]                  \n",
      "__________________________________________________________________________________________________\n",
      "concatenate_36 (Concatenate)    (None, 8, 8, 424)    0           concatenate_35[0][0]             \n",
      "                                                                 dropout_38[0][0]                 \n",
      "__________________________________________________________________________________________________\n",
      "batch_normalization_39 (BatchNo (None, 8, 8, 424)    1696        concatenate_36[0][0]             \n",
      "__________________________________________________________________________________________________\n",
      "activation_39 (Activation)      (None, 8, 8, 424)    0           batch_normalization_39[0][0]     \n",
      "__________________________________________________________________________________________________\n",
      "global_average_pooling2d_1 (Glo (None, 424)          0           activation_39[0][0]              \n",
      "__________________________________________________________________________________________________\n",
      "dense_1 (Dense)                 (None, 10)           4250        global_average_pooling2d_1[0][0] \n",
      "==================================================================================================\n",
      "Total params: 994,046\n",
      "Trainable params: 976,600\n",
      "Non-trainable params: 17,446\n",
      "__________________________________________________________________________________________________\n"
     ]
    }
   ],
   "source": [
    "model = Model(inputs=[input], outputs=[output])\n",
    "model.summary()"
   ]
  },
  {
   "cell_type": "markdown",
   "metadata": {},
   "source": [
    "## Mount Google Drive for saving and loading weights"
   ]
  },
  {
   "cell_type": "code",
   "execution_count": 16,
   "metadata": {
    "colab": {
     "base_uri": "https://localhost:8080/",
     "height": 126
    },
    "colab_type": "code",
    "executionInfo": {
     "elapsed": 33413,
     "status": "ok",
     "timestamp": 1540004041350,
     "user": {
      "displayName": "Nikhil Utane",
      "photoUrl": "",
      "userId": "17106433286041284792"
     },
     "user_tz": -330
    },
    "id": "bZ5xJwV5L-rq",
    "outputId": "ce0ec144-b694-499a-b1ef-6644c025eefa"
   },
   "outputs": [
    {
     "name": "stdout",
     "output_type": "stream",
     "text": [
      "Go to this URL in a browser: https://accounts.google.com/o/oauth2/auth?client_id=947318989803-6bn6qk8qdgf4n4g3pfee6491hc0brc4i.apps.googleusercontent.com&redirect_uri=urn%3Aietf%3Awg%3Aoauth%3A2.0%3Aoob&scope=email%20https%3A%2F%2Fwww.googleapis.com%2Fauth%2Fdocs.test%20https%3A%2F%2Fwww.googleapis.com%2Fauth%2Fdrive%20https%3A%2F%2Fwww.googleapis.com%2Fauth%2Fdrive.photos.readonly%20https%3A%2F%2Fwww.googleapis.com%2Fauth%2Fpeopleapi.readonly&response_type=code\n",
      "\n",
      "Enter your authorization code:\n",
      "··········\n",
      "Mounted at /content/gdrive\n"
     ]
    }
   ],
   "source": [
    "from google.colab import drive\n",
    "drive.mount('/content/gdrive')\n",
    "\n",
    "#model.load_weights(\"/content/gdrive/My Drive/Model Weights/DNST_CIFAR10/weights_with_aug.best.h5\")\n"
   ]
  },
  {
   "cell_type": "markdown",
   "metadata": {},
   "source": [
    "## Define Data Augmentation"
   ]
  },
  {
   "cell_type": "code",
   "execution_count": 0,
   "metadata": {
    "colab": {},
    "colab_type": "code",
    "id": "How_jcUCWhlC"
   },
   "outputs": [],
   "source": [
    "#data augmentation\n",
    "datagen = ImageDataGenerator(\n",
    "    rotation_range=15,\n",
    "    width_shift_range=0.1,\n",
    "    height_shift_range=0.1,\n",
    "    horizontal_flip=True,\n",
    "    )\n",
    "datagen.fit(x_train)"
   ]
  },
  {
   "cell_type": "markdown",
   "metadata": {},
   "source": [
    "## Initialize SGD"
   ]
  },
  {
   "cell_type": "code",
   "execution_count": 0,
   "metadata": {
    "colab": {},
    "colab_type": "code",
    "id": "NE92rHJDNsv8"
   },
   "outputs": [],
   "source": [
    "#sgd = SGD(lr=0.01, decay=1e-6, momentum=0.9, nesterov=True)\n",
    "sgd = SGD(lr=0.1, momentum=0.9, decay=0.0, nesterov=False)"
   ]
  },
  {
   "cell_type": "code",
   "execution_count": 0,
   "metadata": {
    "colab": {},
    "colab_type": "code",
    "id": "b4XOsW3ahSkL"
   },
   "outputs": [],
   "source": [
    "# determine Loss function and Optimizer\n",
    "model.compile(loss='categorical_crossentropy',\n",
    "              optimizer=sgd,\n",
    "              metrics=['accuracy'])"
   ]
  },
  {
   "cell_type": "markdown",
   "metadata": {},
   "source": [
    "## Define checkpoint and callbacks"
   ]
  },
  {
   "cell_type": "code",
   "execution_count": 0,
   "metadata": {
    "colab": {},
    "colab_type": "code",
    "id": "yBCgLZtupeJm"
   },
   "outputs": [],
   "source": [
    "# checkpoint\n",
    "filepath=\"/content/gdrive/My Drive/Model Weights/DNST_CIFAR10/weights_with_lrsch_dropout.best.h5\"\n",
    "checkpoint = ModelCheckpoint(filepath, monitor='val_acc', verbose=1, save_best_only=True, mode='max')\n",
    "#clr_triangular = CyclicLR(mode='triangular2')\n",
    "#clr_triangular = CyclicLR(base_lr=0.001, max_lr=0.006, step_size=2000., mode='triangular2')\n",
    "#callbacks_list = [checkpoint]\n",
    "callbacks_list = [checkpoint, LearningRateScheduler(step_decay)]\n",
    "#callbacks_list = [checkpoint, clr_triangular]\n",
    "\n"
   ]
  },
  {
   "cell_type": "markdown",
   "metadata": {},
   "source": [
    "## Run LR Finder"
   ]
  },
  {
   "cell_type": "code",
   "execution_count": 33,
   "metadata": {
    "colab": {
     "base_uri": "https://localhost:8080/",
     "height": 318
    },
    "colab_type": "code",
    "id": "fnwj6hrDexZG",
    "outputId": "823f2e0d-0e1e-4d5a-d5a8-d9d0d004beb6"
   },
   "outputs": [
    {
     "name": "stdout",
     "output_type": "stream",
     "text": [
      "Epoch 1/1\n",
      "50000/50000 [==============================] - 341s 7ms/step - loss: 0.6537 - acc: 0.7804\n"
     ]
    },
    {
     "data": {
      "image/png": "[encoded data removed]",
      "text/plain": [
       "<matplotlib.figure.Figure at 0x7f96f51b0cc0>"
      ]
     },
     "metadata": {
      "tags": []
     },
     "output_type": "display_data"
    }
   ],
   "source": [
    "lr_finder = LRFinder(min_lr=1e-6,\n",
    "                     max_lr=1e-2, \n",
    "                     steps_per_epoch=np.ceil(epochs/batch_size), \n",
    "                     epochs=3)\n",
    "model.fit(x_train, y_train, callbacks=[lr_finder])\n",
    "lr_finder.plot_loss()"
   ]
  },
  {
   "cell_type": "markdown",
   "metadata": {
    "colab": {},
    "colab_type": "code",
    "id": "A1oTp_jR09VG"
   },
   "source": [
    "## Training - Epochs 1 to 50 (max val_acc: 89.90%)"
   ]
  },
  {
   "cell_type": "code",
   "execution_count": 22,
   "metadata": {
    "colab": {
     "base_uri": "https://localhost:8080/",
     "height": 3572
    },
    "colab_type": "code",
    "executionInfo": {
     "elapsed": 14146774,
     "status": "ok",
     "timestamp": 1540018201457,
     "user": {
      "displayName": "Nikhil Utane",
      "photoUrl": "",
      "userId": "17106433286041284792"
     },
     "user_tz": -330
    },
    "id": "l4_dcujlA56p",
    "outputId": "865cc183-d9da-42d2-d346-649d41473cd2"
   },
   "outputs": [
    {
     "name": "stdout",
     "output_type": "stream",
     "text": [
      "Epoch 1/50\n",
      "781/781 [==============================] - 297s 380ms/step - loss: 1.6295 - acc: 0.4026 - val_loss: 2.2921 - val_acc: 0.3835\n",
      "\n",
      "Epoch 00001: val_acc improved from -inf to 0.38350, saving model to /content/gdrive/My Drive/Model Weights/DNST_CIFAR10/weights_with_lrsch_dropout.best.h5\n",
      "Epoch 2/50\n",
      "781/781 [==============================] - 289s 370ms/step - loss: 1.1709 - acc: 0.5828 - val_loss: 1.3741 - val_acc: 0.5795\n",
      "\n",
      "Epoch 00002: val_acc improved from 0.38350 to 0.57950, saving model to /content/gdrive/My Drive/Model Weights/DNST_CIFAR10/weights_with_lrsch_dropout.best.h5\n",
      "Epoch 3/50\n",
      "781/781 [==============================] - 282s 361ms/step - loss: 0.9801 - acc: 0.6516 - val_loss: 1.2124 - val_acc: 0.6279\n",
      "\n",
      "Epoch 00003: val_acc improved from 0.57950 to 0.62790, saving model to /content/gdrive/My Drive/Model Weights/DNST_CIFAR10/weights_with_lrsch_dropout.best.h5\n",
      "Epoch 4/50\n",
      "781/781 [==============================] - 282s 361ms/step - loss: 0.8449 - acc: 0.7012 - val_loss: 0.8596 - val_acc: 0.7194\n",
      "\n",
      "Epoch 00004: val_acc improved from 0.62790 to 0.71940, saving model to /content/gdrive/My Drive/Model Weights/DNST_CIFAR10/weights_with_lrsch_dropout.best.h5\n",
      "Epoch 5/50\n",
      "781/781 [==============================] - 282s 361ms/step - loss: 0.7483 - acc: 0.7359 - val_loss: 1.8509 - val_acc: 0.5427\n",
      "\n",
      "Epoch 00005: val_acc did not improve from 0.71940\n",
      "Epoch 6/50\n",
      "781/781 [==============================] - 282s 361ms/step - loss: 0.6879 - acc: 0.7596 - val_loss: 0.8326 - val_acc: 0.7431\n",
      "\n",
      "Epoch 00006: val_acc improved from 0.71940 to 0.74310, saving model to /content/gdrive/My Drive/Model Weights/DNST_CIFAR10/weights_with_lrsch_dropout.best.h5\n",
      "Epoch 7/50\n",
      "781/781 [==============================] - 282s 362ms/step - loss: 0.6296 - acc: 0.7816 - val_loss: 0.7926 - val_acc: 0.7484\n",
      "\n",
      "Epoch 00007: val_acc improved from 0.74310 to 0.74840, saving model to /content/gdrive/My Drive/Model Weights/DNST_CIFAR10/weights_with_lrsch_dropout.best.h5\n",
      "Epoch 8/50\n",
      "781/781 [==============================] - 282s 361ms/step - loss: 0.5901 - acc: 0.7944 - val_loss: 1.1013 - val_acc: 0.6754\n",
      "\n",
      "Epoch 00008: val_acc did not improve from 0.74840\n",
      "Epoch 9/50\n",
      "781/781 [==============================] - 282s 361ms/step - loss: 0.5593 - acc: 0.8061 - val_loss: 0.9367 - val_acc: 0.7262\n",
      "\n",
      "Epoch 00009: val_acc did not improve from 0.74840\n",
      "Epoch 10/50\n",
      "781/781 [==============================] - 282s 361ms/step - loss: 0.5338 - acc: 0.8130 - val_loss: 0.7929 - val_acc: 0.7517\n",
      "\n",
      "Epoch 00010: val_acc improved from 0.74840 to 0.75170, saving model to /content/gdrive/My Drive/Model Weights/DNST_CIFAR10/weights_with_lrsch_dropout.best.h5\n",
      "Epoch 11/50\n",
      "781/781 [==============================] - 282s 361ms/step - loss: 0.5039 - acc: 0.8239 - val_loss: 0.5631 - val_acc: 0.8119\n",
      "\n",
      "Epoch 00011: val_acc improved from 0.75170 to 0.81190, saving model to /content/gdrive/My Drive/Model Weights/DNST_CIFAR10/weights_with_lrsch_dropout.best.h5\n",
      "Epoch 12/50\n",
      "781/781 [==============================] - 282s 361ms/step - loss: 0.4831 - acc: 0.8330 - val_loss: 0.8763 - val_acc: 0.7551\n",
      "\n",
      "Epoch 00012: val_acc did not improve from 0.81190\n",
      "Epoch 13/50\n",
      "781/781 [==============================] - 281s 360ms/step - loss: 0.4664 - acc: 0.8356 - val_loss: 0.6374 - val_acc: 0.8030\n",
      "\n",
      "Epoch 00013: val_acc did not improve from 0.81190\n",
      "Epoch 14/50\n",
      "781/781 [==============================] - 281s 360ms/step - loss: 0.4512 - acc: 0.8444 - val_loss: 0.6417 - val_acc: 0.7987\n",
      "\n",
      "Epoch 00014: val_acc did not improve from 0.81190\n",
      "Epoch 15/50\n",
      "781/781 [==============================] - 282s 361ms/step - loss: 0.4264 - acc: 0.8521 - val_loss: 0.7126 - val_acc: 0.7810\n",
      "\n",
      "Epoch 00015: val_acc did not improve from 0.81190\n",
      "Epoch 16/50\n",
      "781/781 [==============================] - 282s 361ms/step - loss: 0.4179 - acc: 0.8527 - val_loss: 0.6880 - val_acc: 0.7880\n",
      "\n",
      "Epoch 00016: val_acc did not improve from 0.81190\n",
      "Epoch 17/50\n",
      "781/781 [==============================] - 282s 361ms/step - loss: 0.4016 - acc: 0.8606 - val_loss: 0.6057 - val_acc: 0.8237\n",
      "\n",
      "Epoch 00017: val_acc improved from 0.81190 to 0.82370, saving model to /content/gdrive/My Drive/Model Weights/DNST_CIFAR10/weights_with_lrsch_dropout.best.h5\n",
      "Epoch 18/50\n",
      "781/781 [==============================] - 281s 360ms/step - loss: 0.3871 - acc: 0.8657 - val_loss: 0.7443 - val_acc: 0.7805\n",
      "\n",
      "Epoch 00018: val_acc did not improve from 0.82370\n",
      "Epoch 19/50\n",
      "781/781 [==============================] - 282s 361ms/step - loss: 0.3724 - acc: 0.8718 - val_loss: 0.6630 - val_acc: 0.8032\n",
      "\n",
      "Epoch 00019: val_acc did not improve from 0.82370\n",
      "Epoch 20/50\n",
      "781/781 [==============================] - 282s 361ms/step - loss: 0.3198 - acc: 0.8891 - val_loss: 0.5424 - val_acc: 0.8376\n",
      "\n",
      "Epoch 00020: val_acc improved from 0.82370 to 0.83760, saving model to /content/gdrive/My Drive/Model Weights/DNST_CIFAR10/weights_with_lrsch_dropout.best.h5\n",
      "Epoch 21/50\n",
      "781/781 [==============================] - 282s 361ms/step - loss: 0.3057 - acc: 0.8948 - val_loss: 0.5226 - val_acc: 0.8432\n",
      "\n",
      "Epoch 00021: val_acc improved from 0.83760 to 0.84320, saving model to /content/gdrive/My Drive/Model Weights/DNST_CIFAR10/weights_with_lrsch_dropout.best.h5\n",
      "Epoch 22/50\n",
      "781/781 [==============================] - 282s 361ms/step - loss: 0.3003 - acc: 0.8936 - val_loss: 0.5107 - val_acc: 0.8487\n",
      "\n",
      "Epoch 00022: val_acc improved from 0.84320 to 0.84870, saving model to /content/gdrive/My Drive/Model Weights/DNST_CIFAR10/weights_with_lrsch_dropout.best.h5\n",
      "Epoch 23/50\n",
      "781/781 [==============================] - 281s 360ms/step - loss: 0.2961 - acc: 0.8978 - val_loss: 0.5115 - val_acc: 0.8541\n",
      "\n",
      "Epoch 00023: val_acc improved from 0.84870 to 0.85410, saving model to /content/gdrive/My Drive/Model Weights/DNST_CIFAR10/weights_with_lrsch_dropout.best.h5\n",
      "Epoch 24/50\n",
      "781/781 [==============================] - 282s 361ms/step - loss: 0.2886 - acc: 0.8980 - val_loss: 0.4853 - val_acc: 0.8608\n",
      "\n",
      "Epoch 00024: val_acc improved from 0.85410 to 0.86080, saving model to /content/gdrive/My Drive/Model Weights/DNST_CIFAR10/weights_with_lrsch_dropout.best.h5\n",
      "Epoch 25/50\n",
      "781/781 [==============================] - 281s 360ms/step - loss: 0.2855 - acc: 0.8994 - val_loss: 0.4692 - val_acc: 0.8624\n",
      "\n",
      "Epoch 00025: val_acc improved from 0.86080 to 0.86240, saving model to /content/gdrive/My Drive/Model Weights/DNST_CIFAR10/weights_with_lrsch_dropout.best.h5\n",
      "Epoch 26/50\n",
      "781/781 [==============================] - 281s 360ms/step - loss: 0.2784 - acc: 0.9022 - val_loss: 0.3958 - val_acc: 0.8779\n",
      "\n",
      "Epoch 00026: val_acc improved from 0.86240 to 0.87790, saving model to /content/gdrive/My Drive/Model Weights/DNST_CIFAR10/weights_with_lrsch_dropout.best.h5\n",
      "Epoch 27/50\n",
      "781/781 [==============================] - 282s 362ms/step - loss: 0.2721 - acc: 0.9039 - val_loss: 0.5529 - val_acc: 0.8457\n",
      "\n",
      "Epoch 00027: val_acc did not improve from 0.87790\n",
      "Epoch 28/50\n",
      "781/781 [==============================] - 282s 362ms/step - loss: 0.2706 - acc: 0.9058 - val_loss: 0.5278 - val_acc: 0.8410\n",
      "\n",
      "Epoch 00028: val_acc did not improve from 0.87790\n",
      "Epoch 29/50\n",
      "781/781 [==============================] - 282s 361ms/step - loss: 0.2626 - acc: 0.9077 - val_loss: 0.4310 - val_acc: 0.8743\n",
      "\n",
      "Epoch 00029: val_acc did not improve from 0.87790\n",
      "Epoch 30/50\n",
      "781/781 [==============================] - 282s 362ms/step - loss: 0.2553 - acc: 0.9097 - val_loss: 0.4716 - val_acc: 0.8663\n",
      "\n",
      "Epoch 00030: val_acc did not improve from 0.87790\n",
      "Epoch 31/50\n",
      "781/781 [==============================] - 282s 361ms/step - loss: 0.2576 - acc: 0.9104 - val_loss: 0.4161 - val_acc: 0.8718\n",
      "\n",
      "Epoch 00031: val_acc did not improve from 0.87790\n",
      "Epoch 32/50\n",
      "781/781 [==============================] - 281s 360ms/step - loss: 0.2530 - acc: 0.9126 - val_loss: 0.5410 - val_acc: 0.8494\n",
      "\n",
      "Epoch 00032: val_acc did not improve from 0.87790\n",
      "Epoch 33/50\n",
      "781/781 [==============================] - 282s 361ms/step - loss: 0.2425 - acc: 0.9136 - val_loss: 0.4264 - val_acc: 0.8768\n",
      "\n",
      "Epoch 00033: val_acc did not improve from 0.87790\n",
      "Epoch 34/50\n",
      "781/781 [==============================] - 283s 362ms/step - loss: 0.2462 - acc: 0.9132 - val_loss: 0.4435 - val_acc: 0.8698\n",
      "\n",
      "Epoch 00034: val_acc did not improve from 0.87790\n",
      "Epoch 35/50\n",
      "781/781 [==============================] - 282s 361ms/step - loss: 0.2417 - acc: 0.9142 - val_loss: 0.4851 - val_acc: 0.8586\n",
      "\n",
      "Epoch 00035: val_acc did not improve from 0.87790\n",
      "Epoch 36/50\n",
      "781/781 [==============================] - 282s 361ms/step - loss: 0.2385 - acc: 0.9163 - val_loss: 0.5283 - val_acc: 0.8523\n",
      "\n",
      "Epoch 00036: val_acc did not improve from 0.87790\n",
      "Epoch 37/50\n",
      "781/781 [==============================] - 282s 361ms/step - loss: 0.2338 - acc: 0.9176 - val_loss: 0.4026 - val_acc: 0.8838\n",
      "\n",
      "Epoch 00037: val_acc improved from 0.87790 to 0.88380, saving model to /content/gdrive/My Drive/Model Weights/DNST_CIFAR10/weights_with_lrsch_dropout.best.h5\n",
      "Epoch 38/50\n",
      "781/781 [==============================] - 282s 361ms/step - loss: 0.2288 - acc: 0.9195 - val_loss: 0.5263 - val_acc: 0.8569\n",
      "\n",
      "Epoch 00038: val_acc did not improve from 0.88380\n",
      "Epoch 39/50\n",
      "781/781 [==============================] - 282s 361ms/step - loss: 0.2281 - acc: 0.9184 - val_loss: 0.4219 - val_acc: 0.8754\n",
      "\n",
      "Epoch 00039: val_acc did not improve from 0.88380\n",
      "Epoch 40/50\n",
      "781/781 [==============================] - 282s 361ms/step - loss: 0.1978 - acc: 0.9322 - val_loss: 0.4542 - val_acc: 0.8723\n",
      "\n",
      "Epoch 00040: val_acc did not improve from 0.88380\n",
      "Epoch 41/50\n",
      "781/781 [==============================] - 282s 361ms/step - loss: 0.1916 - acc: 0.9326 - val_loss: 0.4509 - val_acc: 0.8744\n",
      "\n",
      "Epoch 00041: val_acc did not improve from 0.88380\n",
      "Epoch 42/50\n",
      "781/781 [==============================] - 282s 361ms/step - loss: 0.1866 - acc: 0.9345 - val_loss: 0.4885 - val_acc: 0.8751\n",
      "\n",
      "Epoch 00042: val_acc did not improve from 0.88380\n",
      "Epoch 43/50\n",
      "781/781 [==============================] - 282s 361ms/step - loss: 0.1815 - acc: 0.9351 - val_loss: 0.4249 - val_acc: 0.8801\n",
      "\n",
      "Epoch 00043: val_acc did not improve from 0.88380\n",
      "Epoch 44/50\n",
      "781/781 [==============================] - 282s 361ms/step - loss: 0.1833 - acc: 0.9359 - val_loss: 0.4012 - val_acc: 0.8863\n",
      "\n",
      "Epoch 00044: val_acc improved from 0.88380 to 0.88630, saving model to /content/gdrive/My Drive/Model Weights/DNST_CIFAR10/weights_with_lrsch_dropout.best.h5\n",
      "Epoch 45/50\n",
      "781/781 [==============================] - 282s 361ms/step - loss: 0.1781 - acc: 0.9365 - val_loss: 0.4288 - val_acc: 0.8826\n",
      "\n",
      "Epoch 00045: val_acc did not improve from 0.88630\n",
      "Epoch 46/50\n",
      "781/781 [==============================] - 282s 361ms/step - loss: 0.1772 - acc: 0.9374 - val_loss: 0.4591 - val_acc: 0.8737\n",
      "\n",
      "Epoch 00046: val_acc did not improve from 0.88630\n",
      "Epoch 47/50\n",
      "781/781 [==============================] - 283s 362ms/step - loss: 0.1773 - acc: 0.9376 - val_loss: 0.4003 - val_acc: 0.8912\n",
      "\n",
      "Epoch 00047: val_acc improved from 0.88630 to 0.89120, saving model to /content/gdrive/My Drive/Model Weights/DNST_CIFAR10/weights_with_lrsch_dropout.best.h5\n",
      "Epoch 48/50\n",
      "781/781 [==============================] - 282s 361ms/step - loss: 0.1779 - acc: 0.9373 - val_loss: 0.3783 - val_acc: 0.8919\n",
      "\n",
      "Epoch 00048: val_acc improved from 0.89120 to 0.89190, saving model to /content/gdrive/My Drive/Model Weights/DNST_CIFAR10/weights_with_lrsch_dropout.best.h5\n",
      "Epoch 49/50\n",
      "781/781 [==============================] - 282s 360ms/step - loss: 0.1679 - acc: 0.9407 - val_loss: 0.4355 - val_acc: 0.8827\n",
      "\n",
      "Epoch 00049: val_acc did not improve from 0.89190\n",
      "Epoch 50/50\n",
      "781/781 [==============================] - 282s 361ms/step - loss: 0.1680 - acc: 0.9406 - val_loss: 0.3504 - val_acc: 0.8990\n",
      "\n",
      "Epoch 00050: val_acc improved from 0.89190 to 0.89900, saving model to /content/gdrive/My Drive/Model Weights/DNST_CIFAR10/weights_with_lrsch_dropout.best.h5\n"
     ]
    }
   ],
   "source": [
    "start = time.time()\n",
    "model_info = model.fit_generator(datagen.flow(x_train, y_train, batch_size=batch_size),\\\n",
    "                    steps_per_epoch=x_train.shape[0] // batch_size,epochs=epochs,\\\n",
    "                    verbose=1, validation_data=(x_test,y_test),\\\n",
    "                    callbacks=callbacks_list) \n",
    "end = time.time()\n"
   ]
  },
  {
   "cell_type": "markdown",
   "metadata": {
    "colab": {},
    "colab_type": "code",
    "id": "A1oTp_jR09VG"
   },
   "source": [
    "## Training - Epochs 51 to 100 (max val_acc: 91.33%)"
   ]
  },
  {
   "cell_type": "code",
   "execution_count": 0,
   "metadata": {
    "colab": {
     "base_uri": "https://localhost:8080/",
     "height": 3519
    },
    "colab_type": "code",
    "id": "l4_dcujlA56p",
    "outputId": "6010adcd-fec1-476b-cfa5-2b78778690d4"
   },
   "outputs": [
    {
     "name": "stdout",
     "output_type": "stream",
     "text": [
      "Epoch 1/50\n",
      "781/781 [==============================] - 293s 375ms/step - loss: 0.2897 - acc: 0.8971 - val_loss: 0.5847 - val_acc: 0.8407\n",
      "\n",
      "Epoch 00001: val_acc improved from -inf to 0.84070, saving model to /content/gdrive/My Drive/Model Weights/DNST_CIFAR10/weights_3B.best.h5\n",
      "Epoch 2/50\n",
      "781/781 [==============================] - 282s 361ms/step - loss: 0.2675 - acc: 0.9055 - val_loss: 0.5162 - val_acc: 0.8547\n",
      "\n",
      "Epoch 00002: val_acc improved from 0.84070 to 0.85470, saving model to /content/gdrive/My Drive/Model Weights/DNST_CIFAR10/weights_3B.best.h5\n",
      "Epoch 3/50\n",
      "781/781 [==============================] - 282s 361ms/step - loss: 0.2661 - acc: 0.9054 - val_loss: 0.5573 - val_acc: 0.8482\n",
      "\n",
      "Epoch 00003: val_acc did not improve from 0.85470\n",
      "Epoch 4/50\n",
      "781/781 [==============================] - 282s 362ms/step - loss: 0.2535 - acc: 0.9112 - val_loss: 0.4239 - val_acc: 0.8750\n",
      "\n",
      "Epoch 00004: val_acc improved from 0.85470 to 0.87500, saving model to /content/gdrive/My Drive/Model Weights/DNST_CIFAR10/weights_3B.best.h5\n",
      "Epoch 5/50\n",
      "781/781 [==============================] - 283s 362ms/step - loss: 0.2545 - acc: 0.9104 - val_loss: 0.4956 - val_acc: 0.8528\n",
      "\n",
      "Epoch 00005: val_acc did not improve from 0.87500\n",
      "Epoch 6/50\n",
      "781/781 [==============================] - 282s 361ms/step - loss: 0.2483 - acc: 0.9117 - val_loss: 0.6446 - val_acc: 0.8183\n",
      "\n",
      "Epoch 00006: val_acc did not improve from 0.87500\n",
      "Epoch 7/50\n",
      "781/781 [==============================] - 282s 361ms/step - loss: 0.2458 - acc: 0.9138 - val_loss: 0.8425 - val_acc: 0.8130\n",
      "\n",
      "Epoch 00007: val_acc did not improve from 0.87500\n",
      "Epoch 8/50\n",
      "781/781 [==============================] - 282s 361ms/step - loss: 0.2351 - acc: 0.9170 - val_loss: 0.4691 - val_acc: 0.8653\n",
      "\n",
      "Epoch 00008: val_acc did not improve from 0.87500\n",
      "Epoch 9/50\n",
      "781/781 [==============================] - 282s 361ms/step - loss: 0.2301 - acc: 0.9190 - val_loss: 0.4160 - val_acc: 0.8805\n",
      "\n",
      "Epoch 00009: val_acc improved from 0.87500 to 0.88050, saving model to /content/gdrive/My Drive/Model Weights/DNST_CIFAR10/weights_3B.best.h5\n",
      "Epoch 10/50\n",
      "781/781 [==============================] - 283s 362ms/step - loss: 0.2309 - acc: 0.9169 - val_loss: 0.5236 - val_acc: 0.8516\n",
      "\n",
      "Epoch 00010: val_acc did not improve from 0.88050\n",
      "Epoch 11/50\n",
      "781/781 [==============================] - 282s 361ms/step - loss: 0.2227 - acc: 0.9206 - val_loss: 0.4398 - val_acc: 0.8678\n",
      "\n",
      "Epoch 00011: val_acc did not improve from 0.88050\n",
      "Epoch 12/50\n",
      "781/781 [==============================] - 282s 361ms/step - loss: 0.2184 - acc: 0.9215 - val_loss: 0.4017 - val_acc: 0.8851\n",
      "\n",
      "Epoch 00012: val_acc improved from 0.88050 to 0.88510, saving model to /content/gdrive/My Drive/Model Weights/DNST_CIFAR10/weights_3B.best.h5\n",
      "Epoch 13/50\n",
      "781/781 [==============================] - 283s 362ms/step - loss: 0.2118 - acc: 0.9244 - val_loss: 0.4024 - val_acc: 0.8828\n",
      "\n",
      "Epoch 00013: val_acc did not improve from 0.88510\n",
      "Epoch 14/50\n",
      "781/781 [==============================] - 283s 362ms/step - loss: 0.2087 - acc: 0.9256 - val_loss: 0.4782 - val_acc: 0.8671\n",
      "\n",
      "Epoch 00014: val_acc did not improve from 0.88510\n",
      "Epoch 15/50\n",
      "781/781 [==============================] - 283s 362ms/step - loss: 0.2087 - acc: 0.9264 - val_loss: 0.4859 - val_acc: 0.8638\n",
      "\n",
      "Epoch 00015: val_acc did not improve from 0.88510\n",
      "Epoch 16/50\n",
      "781/781 [==============================] - 283s 362ms/step - loss: 0.2043 - acc: 0.9296 - val_loss: 0.4457 - val_acc: 0.8791\n",
      "\n",
      "Epoch 00016: val_acc did not improve from 0.88510\n",
      "Epoch 17/50\n",
      "781/781 [==============================] - 283s 362ms/step - loss: 0.2024 - acc: 0.9274 - val_loss: 0.5673 - val_acc: 0.8559\n",
      "\n",
      "Epoch 00017: val_acc did not improve from 0.88510\n",
      "Epoch 18/50\n",
      "781/781 [==============================] - 283s 362ms/step - loss: 0.2002 - acc: 0.9282 - val_loss: 0.3970 - val_acc: 0.8895\n",
      "\n",
      "Epoch 00018: val_acc improved from 0.88510 to 0.88950, saving model to /content/gdrive/My Drive/Model Weights/DNST_CIFAR10/weights_3B.best.h5\n",
      "Epoch 19/50\n",
      "781/781 [==============================] - 282s 362ms/step - loss: 0.1937 - acc: 0.9317 - val_loss: 0.5637 - val_acc: 0.8556\n",
      "\n",
      "Epoch 00019: val_acc did not improve from 0.88950\n",
      "Epoch 20/50\n",
      "781/781 [==============================] - 283s 362ms/step - loss: 0.1544 - acc: 0.9452 - val_loss: 0.3779 - val_acc: 0.8942\n",
      "\n",
      "Epoch 00020: val_acc improved from 0.88950 to 0.89420, saving model to /content/gdrive/My Drive/Model Weights/DNST_CIFAR10/weights_3B.best.h5\n",
      "Epoch 21/50\n",
      "781/781 [==============================] - 283s 362ms/step - loss: 0.1452 - acc: 0.9488 - val_loss: 0.3833 - val_acc: 0.8949\n",
      "\n",
      "Epoch 00021: val_acc improved from 0.89420 to 0.89490, saving model to /content/gdrive/My Drive/Model Weights/DNST_CIFAR10/weights_3B.best.h5\n",
      "Epoch 22/50\n",
      "781/781 [==============================] - 283s 362ms/step - loss: 0.1430 - acc: 0.9491 - val_loss: 0.3463 - val_acc: 0.9017\n",
      "\n",
      "Epoch 00022: val_acc improved from 0.89490 to 0.90170, saving model to /content/gdrive/My Drive/Model Weights/DNST_CIFAR10/weights_3B.best.h5\n",
      "Epoch 23/50\n",
      "781/781 [==============================] - 283s 362ms/step - loss: 0.1399 - acc: 0.9515 - val_loss: 0.3890 - val_acc: 0.8941\n",
      "\n",
      "Epoch 00023: val_acc did not improve from 0.90170\n",
      "Epoch 24/50\n",
      "781/781 [==============================] - 283s 362ms/step - loss: 0.1407 - acc: 0.9493 - val_loss: 0.3740 - val_acc: 0.8983\n",
      "\n",
      "Epoch 00024: val_acc did not improve from 0.90170\n",
      "Epoch 25/50\n",
      "781/781 [==============================] - 283s 363ms/step - loss: 0.1340 - acc: 0.9519 - val_loss: 0.3947 - val_acc: 0.8921\n",
      "\n",
      "Epoch 00025: val_acc did not improve from 0.90170\n",
      "Epoch 26/50\n",
      "781/781 [==============================] - 283s 362ms/step - loss: 0.1317 - acc: 0.9523 - val_loss: 0.3717 - val_acc: 0.8992\n",
      "\n",
      "Epoch 00026: val_acc did not improve from 0.90170\n",
      "Epoch 27/50\n",
      "781/781 [==============================] - 283s 363ms/step - loss: 0.1343 - acc: 0.9523 - val_loss: 0.4342 - val_acc: 0.8843\n",
      "\n",
      "Epoch 00027: val_acc did not improve from 0.90170\n",
      "Epoch 28/50\n",
      "781/781 [==============================] - 283s 362ms/step - loss: 0.1304 - acc: 0.9539 - val_loss: 0.3890 - val_acc: 0.9028\n",
      "\n",
      "Epoch 00028: val_acc improved from 0.90170 to 0.90280, saving model to /content/gdrive/My Drive/Model Weights/DNST_CIFAR10/weights_3B.best.h5\n",
      "Epoch 29/50\n",
      "781/781 [==============================] - 283s 362ms/step - loss: 0.1289 - acc: 0.9551 - val_loss: 0.4423 - val_acc: 0.8897\n",
      "\n",
      "Epoch 00029: val_acc did not improve from 0.90280\n",
      "Epoch 30/50\n",
      "781/781 [==============================] - 283s 362ms/step - loss: 0.1274 - acc: 0.9542 - val_loss: 0.3703 - val_acc: 0.9021\n",
      "\n",
      "Epoch 00030: val_acc did not improve from 0.90280\n",
      "Epoch 31/50\n",
      "781/781 [==============================] - 283s 362ms/step - loss: 0.1244 - acc: 0.9555 - val_loss: 0.4097 - val_acc: 0.8984\n",
      "\n",
      "Epoch 00031: val_acc did not improve from 0.90280\n",
      "Epoch 32/50\n",
      "781/781 [==============================] - 282s 362ms/step - loss: 0.1238 - acc: 0.9559 - val_loss: 0.4199 - val_acc: 0.8952\n",
      "\n",
      "Epoch 00032: val_acc did not improve from 0.90280\n",
      "Epoch 33/50\n",
      "781/781 [==============================] - 283s 362ms/step - loss: 0.1257 - acc: 0.9549 - val_loss: 0.4147 - val_acc: 0.8951\n",
      "\n",
      "Epoch 00033: val_acc did not improve from 0.90280\n",
      "Epoch 34/50\n",
      "781/781 [==============================] - 283s 362ms/step - loss: 0.1217 - acc: 0.9564 - val_loss: 0.4064 - val_acc: 0.8960\n",
      "\n",
      "Epoch 00034: val_acc did not improve from 0.90280\n",
      "Epoch 35/50\n",
      "781/781 [==============================] - 283s 362ms/step - loss: 0.1191 - acc: 0.9584 - val_loss: 0.4056 - val_acc: 0.8993\n",
      "\n",
      "Epoch 00035: val_acc did not improve from 0.90280\n",
      "Epoch 36/50\n",
      "781/781 [==============================] - 283s 362ms/step - loss: 0.1261 - acc: 0.9551 - val_loss: 0.3701 - val_acc: 0.9064\n",
      "\n",
      "Epoch 00036: val_acc improved from 0.90280 to 0.90640, saving model to /content/gdrive/My Drive/Model Weights/DNST_CIFAR10/weights_3B.best.h5\n",
      "Epoch 37/50\n",
      "781/781 [==============================] - 282s 362ms/step - loss: 0.1200 - acc: 0.9568 - val_loss: 0.3878 - val_acc: 0.9015\n",
      "\n",
      "Epoch 00037: val_acc did not improve from 0.90640\n",
      "Epoch 38/50\n",
      "781/781 [==============================] - 282s 362ms/step - loss: 0.1189 - acc: 0.9577 - val_loss: 0.4136 - val_acc: 0.9004\n",
      "\n",
      "Epoch 00038: val_acc did not improve from 0.90640\n",
      "Epoch 39/50\n",
      "781/781 [==============================] - 283s 362ms/step - loss: 0.1179 - acc: 0.9582 - val_loss: 0.4779 - val_acc: 0.8870\n",
      "\n",
      "Epoch 00039: val_acc did not improve from 0.90640\n",
      "Epoch 40/50\n",
      "781/781 [==============================] - 283s 362ms/step - loss: 0.1009 - acc: 0.9636 - val_loss: 0.3992 - val_acc: 0.9041\n",
      "\n",
      "Epoch 00040: val_acc did not improve from 0.90640\n",
      "Epoch 41/50\n",
      "781/781 [==============================] - 283s 362ms/step - loss: 0.0921 - acc: 0.9668 - val_loss: 0.3706 - val_acc: 0.9077\n",
      "\n",
      "Epoch 00041: val_acc improved from 0.90640 to 0.90770, saving model to /content/gdrive/My Drive/Model Weights/DNST_CIFAR10/weights_3B.best.h5\n",
      "Epoch 42/50\n",
      "781/781 [==============================] - 282s 361ms/step - loss: 0.0933 - acc: 0.9678 - val_loss: 0.3496 - val_acc: 0.9133\n",
      "\n",
      "Epoch 00042: val_acc improved from 0.90770 to 0.91330, saving model to /content/gdrive/My Drive/Model Weights/DNST_CIFAR10/weights_3B.best.h5\n",
      "Epoch 43/50\n",
      "781/781 [==============================] - 283s 362ms/step - loss: 0.0910 - acc: 0.9678 - val_loss: 0.3844 - val_acc: 0.9084\n",
      "\n",
      "Epoch 00043: val_acc did not improve from 0.91330\n",
      "Epoch 44/50\n",
      "781/781 [==============================] - 282s 361ms/step - loss: 0.0894 - acc: 0.9686 - val_loss: 0.3703 - val_acc: 0.9104\n",
      "\n",
      "Epoch 00044: val_acc did not improve from 0.91330\n",
      "Epoch 45/50\n",
      "781/781 [==============================] - 282s 361ms/step - loss: 0.0906 - acc: 0.9679 - val_loss: 0.4008 - val_acc: 0.9030\n",
      "\n",
      "Epoch 00045: val_acc did not improve from 0.91330\n",
      "Epoch 46/50\n",
      "781/781 [==============================] - 282s 362ms/step - loss: 0.0882 - acc: 0.9691 - val_loss: 0.3764 - val_acc: 0.9101\n",
      "\n",
      "Epoch 00046: val_acc did not improve from 0.91330\n",
      "Epoch 47/50\n",
      "781/781 [==============================] - 282s 362ms/step - loss: 0.0850 - acc: 0.9703 - val_loss: 0.3691 - val_acc: 0.9105\n",
      "\n",
      "Epoch 00047: val_acc did not improve from 0.91330\n",
      "Epoch 48/50\n",
      "781/781 [==============================] - 282s 361ms/step - loss: 0.0884 - acc: 0.9678 - val_loss: 0.3909 - val_acc: 0.9060\n",
      "\n",
      "Epoch 00048: val_acc did not improve from 0.91330\n",
      "Epoch 49/50\n",
      "781/781 [==============================] - 282s 361ms/step - loss: 0.0826 - acc: 0.9706 - val_loss: 0.4125 - val_acc: 0.9046\n",
      "\n",
      "Epoch 00049: val_acc did not improve from 0.91330\n",
      "Epoch 50/50\n",
      "  1/781 [..............................] - ETA: 4:26 - loss: 0.1133 - acc: 0.9688"
     ]
    }
   ],
   "source": [
    "start = time.time()\n",
    "model_info = model.fit_generator(datagen.flow(x_train, y_train, batch_size=batch_size),\\\n",
    "                    steps_per_epoch=x_train.shape[0] // batch_size,epochs=epochs,\\\n",
    "                    verbose=1, validation_data=(x_test,y_test),\\\n",
    "                    callbacks=callbacks_list) \n",
    "end = time.time()\n"
   ]
  },
  {
   "cell_type": "markdown",
   "metadata": {
    "colab": {},
    "colab_type": "code",
    "id": "A1oTp_jR09VG"
   },
   "source": [
    "## Training - Epochs 101 to 110 (max val_acc: 91.68%)"
   ]
  },
  {
   "cell_type": "code",
   "execution_count": 0,
   "metadata": {
    "colab": {
     "base_uri": "https://localhost:8080/",
     "height": 692
    },
    "colab_type": "code",
    "id": "l4_dcujlA56p",
    "outputId": "dc61a4bf-23b8-484c-e955-042882e43424"
   },
   "outputs": [
    {
     "name": "stdout",
     "output_type": "stream",
     "text": [
      "Epoch 1/10\n",
      "781/781 [==============================] - 291s 373ms/step - loss: 0.0530 - acc: 0.9810 - val_loss: 0.3768 - val_acc: 0.9159\n",
      "\n",
      "Epoch 00001: val_acc improved from -inf to 0.91590, saving model to /content/gdrive/My Drive/Model Weights/DNST_CIFAR10/weights_3B.best.h5\n",
      "Epoch 2/10\n",
      "781/781 [==============================] - 283s 362ms/step - loss: 0.0529 - acc: 0.9817 - val_loss: 0.3738 - val_acc: 0.9161\n",
      "\n",
      "Epoch 00002: val_acc improved from 0.91590 to 0.91610, saving model to /content/gdrive/My Drive/Model Weights/DNST_CIFAR10/weights_3B.best.h5\n",
      "Epoch 3/10\n",
      "781/781 [==============================] - 282s 361ms/step - loss: 0.0534 - acc: 0.9811 - val_loss: 0.3739 - val_acc: 0.9166\n",
      "\n",
      "Epoch 00003: val_acc improved from 0.91610 to 0.91660, saving model to /content/gdrive/My Drive/Model Weights/DNST_CIFAR10/weights_3B.best.h5\n",
      "Epoch 4/10\n",
      "781/781 [==============================] - 282s 361ms/step - loss: 0.0534 - acc: 0.9808 - val_loss: 0.3757 - val_acc: 0.9158\n",
      "\n",
      "Epoch 00004: val_acc did not improve from 0.91660\n",
      "Epoch 5/10\n",
      "781/781 [==============================] - 282s 361ms/step - loss: 0.0525 - acc: 0.9820 - val_loss: 0.3754 - val_acc: 0.9166\n",
      "\n",
      "Epoch 00005: val_acc did not improve from 0.91660\n",
      "Epoch 6/10\n",
      "781/781 [==============================] - 282s 361ms/step - loss: 0.0526 - acc: 0.9812 - val_loss: 0.3727 - val_acc: 0.9168\n",
      "\n",
      "Epoch 00006: val_acc improved from 0.91660 to 0.91680, saving model to /content/gdrive/My Drive/Model Weights/DNST_CIFAR10/weights_3B.best.h5\n",
      "Epoch 7/10\n",
      "781/781 [==============================] - 282s 361ms/step - loss: 0.0509 - acc: 0.9821 - val_loss: 0.3733 - val_acc: 0.9166\n",
      "\n",
      "Epoch 00007: val_acc did not improve from 0.91680\n",
      "Epoch 8/10\n",
      "781/781 [==============================] - 282s 361ms/step - loss: 0.0511 - acc: 0.9823 - val_loss: 0.3781 - val_acc: 0.9159\n",
      "\n",
      "Epoch 00008: val_acc did not improve from 0.91680\n",
      "Epoch 9/10\n",
      "781/781 [==============================] - 282s 361ms/step - loss: 0.0528 - acc: 0.9821 - val_loss: 0.3740 - val_acc: 0.9162\n",
      "\n",
      "Epoch 00009: val_acc did not improve from 0.91680\n",
      "Epoch 10/10\n",
      "  1/781 [..............................] - ETA: 4:24 - loss: 0.0463 - acc: 1.0000"
     ]
    }
   ],
   "source": [
    "start = time.time()\n",
    "model_info = model.fit_generator(datagen.flow(x_train, y_train, batch_size=batch_size),\\\n",
    "                    steps_per_epoch=x_train.shape[0] // batch_size,epochs=epochs,\\\n",
    "                    verbose=1, validation_data=(x_test,y_test),\\\n",
    "                    callbacks=callbacks_list) \n",
    "end = time.time()\n"
   ]
  },
  {
   "cell_type": "markdown",
   "metadata": {
    "colab": {},
    "colab_type": "code",
    "id": "A1oTp_jR09VG"
   },
   "source": [
    "## Training - Epochs 111 to 139 (max val_acc: 92.18% FINAL)"
   ]
  },
  {
   "cell_type": "code",
   "execution_count": 0,
   "metadata": {
    "colab": {
     "base_uri": "https://localhost:8080/",
     "height": 2115
    },
    "colab_type": "code",
    "id": "l4_dcujlA56p",
    "outputId": "b6010fee-2061-4bc1-dc84-409461d26fce"
   },
   "outputs": [
    {
     "name": "stdout",
     "output_type": "stream",
     "text": [
      "Epoch 1/100\n",
      "1562/1562 [==============================] - 517s 331ms/step - loss: 0.0259 - acc: 0.9907 - val_loss: 0.4067 - val_acc: 0.9155\n",
      "\n",
      "Epoch 00001: val_acc improved from -inf to 0.91550, saving model to /content/gdrive/My Drive/Model Weights/DNST_CIFAR10/weights_3B.best.h5\n",
      "Epoch 2/100\n",
      "1562/1562 [==============================] - 501s 321ms/step - loss: 0.0207 - acc: 0.9928 - val_loss: 0.3973 - val_acc: 0.9172\n",
      "\n",
      "Epoch 00002: val_acc improved from 0.91550 to 0.91720, saving model to /content/gdrive/My Drive/Model Weights/DNST_CIFAR10/weights_3B.best.h5\n",
      "Epoch 3/100\n",
      "1562/1562 [==============================] - 501s 321ms/step - loss: 0.0196 - acc: 0.9934 - val_loss: 0.3908 - val_acc: 0.9172\n",
      "\n",
      "Epoch 00003: val_acc did not improve from 0.91720\n",
      "Epoch 4/100\n",
      "1562/1562 [==============================] - 501s 320ms/step - loss: 0.0182 - acc: 0.9937 - val_loss: 0.3923 - val_acc: 0.9171\n",
      "\n",
      "Epoch 00004: val_acc did not improve from 0.91720\n",
      "Epoch 5/100\n",
      "1562/1562 [==============================] - 501s 321ms/step - loss: 0.0181 - acc: 0.9938 - val_loss: 0.3903 - val_acc: 0.9172\n",
      "\n",
      "Epoch 00005: val_acc did not improve from 0.91720\n",
      "Epoch 6/100\n",
      "1562/1562 [==============================] - 501s 321ms/step - loss: 0.0168 - acc: 0.9944 - val_loss: 0.3866 - val_acc: 0.9183\n",
      "\n",
      "Epoch 00006: val_acc improved from 0.91720 to 0.91830, saving model to /content/gdrive/My Drive/Model Weights/DNST_CIFAR10/weights_3B.best.h5\n",
      "Epoch 7/100\n",
      "1562/1562 [==============================] - 502s 321ms/step - loss: 0.0169 - acc: 0.9943 - val_loss: 0.3848 - val_acc: 0.9189\n",
      "\n",
      "Epoch 00007: val_acc improved from 0.91830 to 0.91890, saving model to /content/gdrive/My Drive/Model Weights/DNST_CIFAR10/weights_3B.best.h5\n",
      "Epoch 8/100\n",
      "1562/1562 [==============================] - 502s 322ms/step - loss: 0.0164 - acc: 0.9944 - val_loss: 0.3842 - val_acc: 0.9196\n",
      "\n",
      "Epoch 00008: val_acc improved from 0.91890 to 0.91960, saving model to /content/gdrive/My Drive/Model Weights/DNST_CIFAR10/weights_3B.best.h5\n",
      "Epoch 9/100\n",
      "1562/1562 [==============================] - 502s 321ms/step - loss: 0.0161 - acc: 0.9946 - val_loss: 0.3810 - val_acc: 0.9191\n",
      "\n",
      "Epoch 00009: val_acc did not improve from 0.91960\n",
      "Epoch 10/100\n",
      "1562/1562 [==============================] - 505s 323ms/step - loss: 0.0151 - acc: 0.9950 - val_loss: 0.3774 - val_acc: 0.9202\n",
      "\n",
      "Epoch 00010: val_acc improved from 0.91960 to 0.92020, saving model to /content/gdrive/My Drive/Model Weights/DNST_CIFAR10/weights_3B.best.h5\n",
      "Epoch 11/100\n",
      "1562/1562 [==============================] - 504s 323ms/step - loss: 0.0153 - acc: 0.9948 - val_loss: 0.3796 - val_acc: 0.9207\n",
      "\n",
      "Epoch 00011: val_acc improved from 0.92020 to 0.92070, saving model to /content/gdrive/My Drive/Model Weights/DNST_CIFAR10/weights_3B.best.h5\n",
      "Epoch 12/100\n",
      "1562/1562 [==============================] - 505s 323ms/step - loss: 0.0158 - acc: 0.9947 - val_loss: 0.3808 - val_acc: 0.9198\n",
      "\n",
      "Epoch 00012: val_acc did not improve from 0.92070\n",
      "Epoch 13/100\n",
      "1562/1562 [==============================] - 504s 323ms/step - loss: 0.0144 - acc: 0.9953 - val_loss: 0.3781 - val_acc: 0.9202\n",
      "\n",
      "Epoch 00013: val_acc did not improve from 0.92070\n",
      "Epoch 14/100\n",
      "1562/1562 [==============================] - 504s 323ms/step - loss: 0.0145 - acc: 0.9952 - val_loss: 0.3798 - val_acc: 0.9199\n",
      "\n",
      "Epoch 00014: val_acc did not improve from 0.92070\n",
      "Epoch 15/100\n",
      "1562/1562 [==============================] - 504s 323ms/step - loss: 0.0140 - acc: 0.9953 - val_loss: 0.3819 - val_acc: 0.9201\n",
      "\n",
      "Epoch 00015: val_acc did not improve from 0.92070\n",
      "Epoch 16/100\n",
      "1562/1562 [==============================] - 504s 323ms/step - loss: 0.0146 - acc: 0.9952 - val_loss: 0.3786 - val_acc: 0.9206\n",
      "\n",
      "Epoch 00016: val_acc did not improve from 0.92070\n",
      "Epoch 17/100\n",
      "1562/1562 [==============================] - 504s 322ms/step - loss: 0.0137 - acc: 0.9958 - val_loss: 0.3789 - val_acc: 0.9201\n",
      "\n",
      "Epoch 00017: val_acc did not improve from 0.92070\n",
      "Epoch 18/100\n",
      "1562/1562 [==============================] - 505s 323ms/step - loss: 0.0139 - acc: 0.9954 - val_loss: 0.3778 - val_acc: 0.9207\n",
      "\n",
      "Epoch 00018: val_acc did not improve from 0.92070\n",
      "Epoch 19/100\n",
      "1562/1562 [==============================] - 504s 323ms/step - loss: 0.0143 - acc: 0.9954 - val_loss: 0.3776 - val_acc: 0.9200\n",
      "\n",
      "Epoch 00019: val_acc did not improve from 0.92070\n",
      "Epoch 20/100\n",
      "1562/1562 [==============================] - 505s 323ms/step - loss: 0.0138 - acc: 0.9956 - val_loss: 0.3749 - val_acc: 0.9208\n",
      "\n",
      "Epoch 00020: val_acc improved from 0.92070 to 0.92080, saving model to /content/gdrive/My Drive/Model Weights/DNST_CIFAR10/weights_3B.best.h5\n",
      "Epoch 21/100\n",
      "1562/1562 [==============================] - 505s 323ms/step - loss: 0.0135 - acc: 0.9955 - val_loss: 0.3762 - val_acc: 0.9202\n",
      "\n",
      "Epoch 00021: val_acc did not improve from 0.92080\n",
      "Epoch 22/100\n",
      "1562/1562 [==============================] - 505s 323ms/step - loss: 0.0138 - acc: 0.9954 - val_loss: 0.3757 - val_acc: 0.9217\n",
      "\n",
      "Epoch 00022: val_acc improved from 0.92080 to 0.92170, saving model to /content/gdrive/My Drive/Model Weights/DNST_CIFAR10/weights_3B.best.h5\n",
      "Epoch 23/100\n",
      "1562/1562 [==============================] - 505s 323ms/step - loss: 0.0134 - acc: 0.9955 - val_loss: 0.3758 - val_acc: 0.9218\n",
      "\n",
      "Epoch 00023: val_acc improved from 0.92170 to 0.92180, saving model to /content/gdrive/My Drive/Model Weights/DNST_CIFAR10/weights_3B.best.h5\n",
      "Epoch 24/100\n",
      "1562/1562 [==============================] - 506s 324ms/step - loss: 0.0136 - acc: 0.9956 - val_loss: 0.3775 - val_acc: 0.9198\n",
      "\n",
      "Epoch 00024: val_acc did not improve from 0.92180\n",
      "Epoch 25/100\n",
      "1562/1562 [==============================] - 506s 324ms/step - loss: 0.0129 - acc: 0.9957 - val_loss: 0.3756 - val_acc: 0.9206\n",
      "\n",
      "Epoch 00025: val_acc did not improve from 0.92180\n",
      "Epoch 26/100\n",
      "1562/1562 [==============================] - 506s 324ms/step - loss: 0.0129 - acc: 0.9961 - val_loss: 0.3774 - val_acc: 0.9202\n",
      "\n",
      "Epoch 00026: val_acc did not improve from 0.92180\n",
      "Epoch 27/100\n",
      "1562/1562 [==============================] - 506s 324ms/step - loss: 0.0134 - acc: 0.9955 - val_loss: 0.3785 - val_acc: 0.9199\n",
      "\n",
      "Epoch 00027: val_acc did not improve from 0.92180\n",
      "Epoch 28/100\n",
      "1562/1562 [==============================] - 506s 324ms/step - loss: 0.0121 - acc: 0.9962 - val_loss: 0.3764 - val_acc: 0.9206\n",
      "\n",
      "Epoch 00028: val_acc did not improve from 0.92180\n",
      "Epoch 29/100\n",
      "1562/1562 [==============================] - 504s 323ms/step - loss: 0.0121 - acc: 0.9963 - val_loss: 0.3777 - val_acc: 0.9214\n",
      "\n",
      "Epoch 00029: val_acc did not improve from 0.92180\n",
      "Epoch 30/100\n",
      "1304/1562 [========================>.....] - ETA: 1:20 - loss: 0.0134 - acc: 0.9956"
     ]
    }
   ],
   "source": [
    "start = time.time()\n",
    "model_info = model.fit_generator(datagen.flow(x_train, y_train, batch_size=batch_size),\\\n",
    "                    steps_per_epoch=2*x_train.shape[0] // batch_size,epochs=epochs,\\\n",
    "                    verbose=1, validation_data=(x_test,y_test),\\\n",
    "                    callbacks=callbacks_list) \n",
    "end = time.time()\n"
   ]
  },
  {
   "cell_type": "markdown",
   "metadata": {},
   "source": [
    "## Plot Model History"
   ]
  },
  {
   "cell_type": "code",
   "execution_count": 23,
   "metadata": {
    "colab": {
     "base_uri": "https://localhost:8080/",
     "height": 384
    },
    "colab_type": "code",
    "executionInfo": {
     "elapsed": 22841,
     "status": "ok",
     "timestamp": 1540018225264,
     "user": {
      "displayName": "Nikhil Utane",
      "photoUrl": "",
      "userId": "17106433286041284792"
     },
     "user_tz": -330
    },
    "id": "yzvKjFGh9sog",
    "outputId": "132992a0-78aa-4708-eafa-11a7ee155862"
   },
   "outputs": [
    {
     "data": {
      "image/png": "[encoded data removed]",
      "text/plain": [
       "<matplotlib.figure.Figure at 0x7f175c590358>"
      ]
     },
     "metadata": {
      "tags": []
     },
     "output_type": "display_data"
    },
    {
     "name": "stdout",
     "output_type": "stream",
     "text": [
      "Model took 14145.63 seconds to train\n",
      "Accuracy on test data is: 89.90\n"
     ]
    }
   ],
   "source": [
    "# plot model history\n",
    "plot_model_history(model_info)\n",
    "print(\"Model took %0.2f seconds to train\" % (end - start))\n",
    "# compute test accuracy\n",
    "print(\"Accuracy on test data is: %0.2f\" % accuracy(x_test, y_test, model))"
   ]
  },
  {
   "cell_type": "code",
   "execution_count": 24,
   "metadata": {
    "colab": {
     "base_uri": "https://localhost:8080/",
     "height": 70
    },
    "colab_type": "code",
    "executionInfo": {
     "elapsed": 22123,
     "status": "ok",
     "timestamp": 1540018247621,
     "user": {
      "displayName": "Nikhil Utane",
      "photoUrl": "",
      "userId": "17106433286041284792"
     },
     "user_tz": -330
    },
    "id": "ZcWydmIVhZGr",
    "outputId": "19df5be1-0c06-4871-89d9-c93408f1c06a"
   },
   "outputs": [
    {
     "name": "stdout",
     "output_type": "stream",
     "text": [
      "10000/10000 [==============================] - 21s 2ms/step\n",
      "Test loss: 0.35043127034306526\n",
      "Test accuracy: 0.899\n"
     ]
    }
   ],
   "source": [
    "# Test the model\n",
    "score = model.evaluate(x_test, y_test, verbose=1)\n",
    "print('Test loss:', score[0])\n",
    "print('Test accuracy:', score[1])"
   ]
  },
  {
   "cell_type": "code",
   "execution_count": 0,
   "metadata": {
    "colab": {},
    "colab_type": "code",
    "id": "l9hCGSXHbqqI"
   },
   "outputs": [],
   "source": []
  }
 ],
 "metadata": {
  "accelerator": "GPU",
  "colab": {
   "collapsed_sections": [],
   "name": "DNST_CIFAR10.ipynb",
   "provenance": [
    {
     "file_id": "1pFn0wvWOKj93A4_-pjMxsxR96VDyN-NF",
     "timestamp": 1539753040190
    },
    {
     "file_id": "1_1kwmwgL7g94jI6BEtcgm-D2_AFk0zxK",
     "timestamp": 1519101209834
    }
   ],
   "version": "0.3.2"
  },
  "kernelspec": {
   "display_name": "Python 3",
   "language": "python",
   "name": "python3"
  },
  "language_info": {
   "codemirror_mode": {
    "name": "ipython",
    "version": 3
   },
   "file_extension": ".py",
   "mimetype": "text/x-python",
   "name": "python",
   "nbconvert_exporter": "python",
   "pygments_lexer": "ipython3",
   "version": "3.6.6"
  }
 },
 "nbformat": 4,
 "nbformat_minor": 1
}
